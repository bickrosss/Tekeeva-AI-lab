{
 "cells": [
  {
   "cell_type": "code",
   "execution_count": 1,
   "id": "8ea82e7b-e4cb-4dc5-b36a-98e4f7f9f9d0",
   "metadata": {},
   "outputs": [
    {
     "name": "stdout",
     "output_type": "stream",
     "text": [
      "0    1\n",
      "1    2\n",
      "2    3\n",
      "3    4\n",
      "4    5\n",
      "dtype: int64\n"
     ]
    }
   ],
   "source": [
    "import numpy as np\n",
    "import pandas as pd\n",
    "s1 = pd.Series([1, 2, 3, 4, 5])\n",
    "print(s1)"
   ]
  },
  {
   "cell_type": "code",
   "execution_count": 3,
   "id": "dce00e3d-fdd4-4d7e-b09f-12c0e2d0c26a",
   "metadata": {},
   "outputs": [
    {
     "name": "stdout",
     "output_type": "stream",
     "text": [
      "a    1\n",
      "b    2\n",
      "c    3\n",
      "d    4\n",
      "e    5\n",
      "dtype: int64\n"
     ]
    }
   ],
   "source": [
    "s2 = pd.Series([1, 2, 3, 4, 5], ['a', 'b', 'c', 'd', 'e'])\n",
    "print(s2)"
   ]
  },
  {
   "cell_type": "code",
   "execution_count": 5,
   "id": "08827203-19ba-4363-9d27-c008d640197c",
   "metadata": {},
   "outputs": [
    {
     "data": {
      "text/plain": [
       "numpy.ndarray"
      ]
     },
     "execution_count": 5,
     "metadata": {},
     "output_type": "execute_result"
    }
   ],
   "source": [
    "ndarr = np.array([1, 2, 3, 4, 5])\n",
    "type(ndarr)"
   ]
  },
  {
   "cell_type": "code",
   "execution_count": 7,
   "id": "1b4e40d7-6b68-4d05-91fb-f6f36da961ff",
   "metadata": {},
   "outputs": [
    {
     "name": "stdout",
     "output_type": "stream",
     "text": [
      "a    1\n",
      "b    2\n",
      "c    3\n",
      "d    4\n",
      "e    5\n",
      "dtype: int32\n"
     ]
    }
   ],
   "source": [
    "s3 = pd.Series(ndarr, ['a', 'b', 'c', 'd', 'e'])\n",
    "print(s3)"
   ]
  },
  {
   "cell_type": "code",
   "execution_count": 9,
   "id": "33452206-303f-400d-b2f2-b3f2bff15600",
   "metadata": {},
   "outputs": [
    {
     "name": "stdout",
     "output_type": "stream",
     "text": [
      "a    1\n",
      "b    2\n",
      "c    3\n",
      "dtype: int64\n"
     ]
    }
   ],
   "source": [
    "d = {'a':1, 'b':2, 'c':3}\n",
    "s4 = pd.Series(d)\n",
    "print(s4)"
   ]
  },
  {
   "cell_type": "code",
   "execution_count": 11,
   "id": "812d209a-5b3f-4269-92cf-6bb68d5ef8ed",
   "metadata": {},
   "outputs": [
    {
     "name": "stdout",
     "output_type": "stream",
     "text": [
      "a    7\n",
      "b    7\n",
      "c    7\n",
      "dtype: int64\n"
     ]
    }
   ],
   "source": [
    "a = 7\n",
    "s5 = pd.Series(a, ['a', 'b', 'c'])\n",
    "print(s5)"
   ]
  },
  {
   "cell_type": "code",
   "execution_count": 13,
   "id": "32b3bd5a-84e1-41c8-9a5a-05c53f945357",
   "metadata": {},
   "outputs": [
    {
     "name": "stdout",
     "output_type": "stream",
     "text": [
      "3\n",
      "4\n",
      "a    1\n",
      "b    2\n",
      "dtype: int64\n",
      "a    1\n",
      "b    2\n",
      "c    3\n",
      "dtype: int64\n"
     ]
    },
    {
     "name": "stderr",
     "output_type": "stream",
     "text": [
      "C:\\Users\\WINDOWS_11-500gb\\AppData\\Local\\Temp\\ipykernel_11568\\3822981573.py:2: FutureWarning: Series.__getitem__ treating keys as positions is deprecated. In a future version, integer keys will always be treated as labels (consistent with DataFrame behavior). To access a value by position, use `ser.iloc[pos]`\n",
      "  print(s6[2])\n"
     ]
    }
   ],
   "source": [
    "s6 = pd.Series([1, 2, 3, 4, 5], ['a', 'b', 'c', 'd', 'e'])\n",
    "print(s6[2])\n",
    "print(s6['d'])\n",
    "print(s6[:2])\n",
    "print(s6[s6 <= 3])"
   ]
  },
  {
   "cell_type": "code",
   "execution_count": 15,
   "id": "bdb3e5b8-83be-4a5b-9372-be6a14ce2aa3",
   "metadata": {},
   "outputs": [
    {
     "name": "stdout",
     "output_type": "stream",
     "text": [
      "a    11\n",
      "b    22\n",
      "c    33\n",
      "d    44\n",
      "e    55\n",
      "dtype: int64\n",
      "a     3\n",
      "b     6\n",
      "c     9\n",
      "d    12\n",
      "e    15\n",
      "dtype: int64\n"
     ]
    }
   ],
   "source": [
    "s7 = pd.Series([10, 20, 30, 40, 50], ['a', 'b', 'c', 'd', 'e'])\n",
    "print(s6 + s7)\n",
    "print(s6 * 3)"
   ]
  },
  {
   "cell_type": "code",
   "execution_count": 17,
   "id": "a16476d9-2929-4fa8-9478-f08328d62e23",
   "metadata": {},
   "outputs": [
    {
     "name": "stdout",
     "output_type": "stream",
     "text": [
      "10\n",
      "30\n",
      "50\n"
     ]
    }
   ],
   "source": [
    "s = pd.Series([10, 20, 30, 40, 50], index=['a', 'b', 'c', 'd', 'e'])\n",
    "print(s.iloc[0])\n",
    "print(s.iloc[2])\n",
    "print(s.iloc[-1])"
   ]
  },
  {
   "cell_type": "code",
   "execution_count": 19,
   "id": "20490214-674d-42ae-ad05-6521014872c1",
   "metadata": {},
   "outputs": [
    {
     "name": "stdout",
     "output_type": "stream",
     "text": [
      "10\n",
      "30\n",
      "50\n"
     ]
    }
   ],
   "source": [
    "print(s.loc['a'])\n",
    "print(s.loc['c'])\n",
    "print(s.loc['e'])"
   ]
  },
  {
   "cell_type": "code",
   "execution_count": 21,
   "id": "4173320c-a4a4-4056-bb2b-0588691e41d7",
   "metadata": {},
   "outputs": [
    {
     "name": "stdout",
     "output_type": "stream",
     "text": [
      "b    20\n",
      "c    30\n",
      "dtype: int64\n",
      "b    20\n",
      "c    30\n",
      "d    40\n",
      "dtype: int64\n"
     ]
    }
   ],
   "source": [
    "print(s.iloc[1:3])\n",
    "print(s.loc['b':'d'])"
   ]
  },
  {
   "cell_type": "code",
   "execution_count": 23,
   "id": "7c5f3eac-5fd4-482b-9ddf-42b5fed3a893",
   "metadata": {},
   "outputs": [
    {
     "name": "stdout",
     "output_type": "stream",
     "text": [
      "b    25\n",
      "d    30\n",
      "e    15\n",
      "dtype: int64\n",
      "a    False\n",
      "b     True\n",
      "c    False\n",
      "d     True\n",
      "e     True\n",
      "dtype: bool\n"
     ]
    }
   ],
   "source": [
    "s = pd.Series([10, 25, 8, 30, 15], index=['a', 'b', 'c', 'd', 'e'])\n",
    "filtered_s = s[s > 10]\n",
    "print(filtered_s)\n",
    "print(s > 10)"
   ]
  },
  {
   "cell_type": "code",
   "execution_count": 269,
   "id": "ae2ce15a-3a5d-4bef-9c26-48d26790bc17",
   "metadata": {},
   "outputs": [
    {
     "name": "stdout",
     "output_type": "stream",
     "text": [
      "Series([], dtype: int64)\n"
     ]
    }
   ],
   "source": [
    "\n",
    "\n",
    "\n",
    "\n",
    "\n",
    "\n",
    "\n"
   ]
  },
  {
   "cell_type": "code",
   "execution_count": 27,
   "id": "a57ac960-2898-4aec-96c4-96cd2e446ec1",
   "metadata": {},
   "outputs": [
    {
     "name": "stdout",
     "output_type": "stream",
     "text": [
      "b    25\n",
      "d    30\n",
      "dtype: int64\n"
     ]
    }
   ],
   "source": [
    "filtered_s = s[s.index.isin(['b', 'd'])]\n",
    "print(filtered_s)"
   ]
  },
  {
   "cell_type": "code",
   "execution_count": 29,
   "id": "58f51971-45e3-4607-af10-f3c280959914",
   "metadata": {},
   "outputs": [
    {
     "name": "stdout",
     "output_type": "stream",
     "text": [
      "a    10.0\n",
      "c     8.0\n",
      "d    30.0\n",
      "dtype: float64\n"
     ]
    }
   ],
   "source": [
    "s_with_nan = pd.Series([10, None, 8, 30, None], index=['a', 'b', 'c', 'd', 'e'])\n",
    "filtered_s = s_with_nan[s_with_nan.notnull()]\n",
    "print(filtered_s)"
   ]
  },
  {
   "cell_type": "code",
   "execution_count": 31,
   "id": "644e2a2a-07b1-4bfa-995a-a7364a7e70f8",
   "metadata": {},
   "outputs": [
    {
     "name": "stdout",
     "output_type": "stream",
     "text": [
      "a    10\n",
      "b    25\n",
      "c    30\n",
      "d    40\n",
      "dtype: int64\n"
     ]
    }
   ],
   "source": [
    "s = pd.Series([10, 20, 30, 40], index=['a', 'b', 'c', 'd'])\n",
    "s.loc['b'] = 25\n",
    "print(s)"
   ]
  },
  {
   "cell_type": "code",
   "execution_count": 33,
   "id": "c6b63654-a387-45f9-a577-57b386af95c0",
   "metadata": {},
   "outputs": [
    {
     "name": "stdout",
     "output_type": "stream",
     "text": [
      "a    10\n",
      "b    50\n",
      "c    30\n",
      "d    40\n",
      "dtype: int64\n"
     ]
    }
   ],
   "source": [
    "s.iloc[1] = 50\n",
    "print(s)"
   ]
  },
  {
   "cell_type": "code",
   "execution_count": 35,
   "id": "192ea4a9-c39d-4843-8b08-2f5fa0bb7260",
   "metadata": {},
   "outputs": [
    {
     "name": "stdout",
     "output_type": "stream",
     "text": [
      "a    10\n",
      "b    60\n",
      "c    30\n",
      "d    50\n",
      "dtype: int64\n"
     ]
    }
   ],
   "source": [
    "s[s > 30] += 10\n",
    "print(s)"
   ]
  },
  {
   "cell_type": "code",
   "execution_count": 37,
   "id": "7c0143a2-3d0a-4731-8986-e73d84b06b25",
   "metadata": {},
   "outputs": [
    {
     "name": "stdout",
     "output_type": "stream",
     "text": [
      "a    100\n",
      "b     60\n",
      "c    200\n",
      "d     50\n",
      "dtype: int64\n"
     ]
    }
   ],
   "source": [
    "s.loc[['a', 'c']] = [100, 200]\n",
    "print(s)"
   ]
  },
  {
   "cell_type": "code",
   "execution_count": 39,
   "id": "2cc2d2c4-f6f7-47bb-b7fa-d22ba0b7aa11",
   "metadata": {},
   "outputs": [
    {
     "name": "stdout",
     "output_type": "stream",
     "text": [
      "a    200\n",
      "b    120\n",
      "c    400\n",
      "d    100\n",
      "dtype: int64\n"
     ]
    }
   ],
   "source": [
    "s = s.apply(lambda x: x * 2)\n",
    "print(s)"
   ]
  },
  {
   "cell_type": "code",
   "execution_count": 41,
   "id": "1a5dc81b-01c9-46ba-b4f4-7ad0c9c0f7a9",
   "metadata": {},
   "outputs": [
    {
     "name": "stdout",
     "output_type": "stream",
     "text": [
      "a    10.0\n",
      "b     0.0\n",
      "c    30.0\n",
      "d     0.0\n",
      "dtype: float64\n"
     ]
    }
   ],
   "source": [
    "s_with_nan = pd.Series([10, None, 30, None], index=['a', 'b', 'c', 'd'])\n",
    "s_filled = s_with_nan.fillna(0)\n",
    "print(s_filled)"
   ]
  },
  {
   "cell_type": "code",
   "execution_count": 43,
   "id": "1087ca38-aea1-4fc1-9fca-2b708e0ca32b",
   "metadata": {},
   "outputs": [
    {
     "name": "stdout",
     "output_type": "stream",
     "text": [
      "a    10\n",
      "b    20\n",
      "c    30\n",
      "dtype: int64\n"
     ]
    }
   ],
   "source": [
    "s = pd.Series([10, 20, 30, 40, 50, 60, 70], index=['a', 'b', 'c', 'd', 'e', 'f', 'g'])\n",
    "print(s.head(3))"
   ]
  },
  {
   "cell_type": "code",
   "execution_count": 45,
   "id": "c72d1071-0987-4e4c-a00f-62d63f8b9fa4",
   "metadata": {},
   "outputs": [
    {
     "name": "stdout",
     "output_type": "stream",
     "text": [
      "a    10\n",
      "b    20\n",
      "c    30\n",
      "d    40\n",
      "e    50\n",
      "dtype: int64\n"
     ]
    }
   ],
   "source": [
    "print(s.head())"
   ]
  },
  {
   "cell_type": "code",
   "execution_count": 47,
   "id": "87d97e0c-7764-4c95-a14a-90c947f16346",
   "metadata": {},
   "outputs": [
    {
     "name": "stdout",
     "output_type": "stream",
     "text": [
      "e    50\n",
      "f    60\n",
      "g    70\n",
      "dtype: int64\n"
     ]
    }
   ],
   "source": [
    "print(s.tail(3))"
   ]
  },
  {
   "cell_type": "code",
   "execution_count": 51,
   "id": "a07bb4fa-6ef1-4672-b63d-bfff80ac5e8d",
   "metadata": {},
   "outputs": [
    {
     "name": "stdout",
     "output_type": "stream",
     "text": [
      "c    30\n",
      "d    40\n",
      "e    50\n",
      "f    60\n",
      "g    70\n",
      "dtype: int64\n"
     ]
    }
   ],
   "source": [
    "print(s.tail())"
   ]
  },
  {
   "cell_type": "code",
   "execution_count": 54,
   "id": "afdfd621-764a-488d-9301-a9d27f532fdf",
   "metadata": {},
   "outputs": [
    {
     "name": "stdout",
     "output_type": "stream",
     "text": [
      "Index(['a', 'b', 'c', 'd', 'e'], dtype='object')\n"
     ]
    }
   ],
   "source": [
    "s = pd.Series([10, 20, 30, 40, 50], index=['a', 'b', 'c', 'd', 'e'])\n",
    "print(s.index)"
   ]
  },
  {
   "cell_type": "code",
   "execution_count": 57,
   "id": "c28a63c7-b51d-411e-bb59-04ea48606472",
   "metadata": {},
   "outputs": [
    {
     "name": "stdout",
     "output_type": "stream",
     "text": [
      "a\n",
      "e\n"
     ]
    }
   ],
   "source": [
    "print(s.index[0])\n",
    "print(s.index[-1])"
   ]
  },
  {
   "cell_type": "code",
   "execution_count": 60,
   "id": "bb77a2fa-6920-49dc-b19d-4da193889cf3",
   "metadata": {},
   "outputs": [
    {
     "name": "stdout",
     "output_type": "stream",
     "text": [
      "True\n",
      "False\n"
     ]
    }
   ],
   "source": [
    "print('b' in s.index)\n",
    "print('z' in s.index)"
   ]
  },
  {
   "cell_type": "code",
   "execution_count": 63,
   "id": "4cb4bde3-fd63-4427-ae20-1246ac6722f2",
   "metadata": {},
   "outputs": [
    {
     "name": "stdout",
     "output_type": "stream",
     "text": [
      "[10 20 30 40 50]\n"
     ]
    }
   ],
   "source": [
    "print(s.values)"
   ]
  },
  {
   "cell_type": "code",
   "execution_count": 66,
   "id": "b1f3a599-6c16-4b18-a356-4ea7494c7ef4",
   "metadata": {},
   "outputs": [
    {
     "name": "stdout",
     "output_type": "stream",
     "text": [
      "10\n",
      "30.0\n"
     ]
    }
   ],
   "source": [
    "print(s.values[0])\n",
    "print(s.values.mean())"
   ]
  },
  {
   "cell_type": "code",
   "execution_count": 69,
   "id": "44289794-aee0-45b1-84e7-53027f6b0a81",
   "metadata": {},
   "outputs": [
    {
     "name": "stdout",
     "output_type": "stream",
     "text": [
      "int64\n"
     ]
    }
   ],
   "source": [
    "s = pd.Series([10, 20, 30, 40, 50])\n",
    "print(s.dtype)"
   ]
  },
  {
   "cell_type": "code",
   "execution_count": 72,
   "id": "b7272ba6-4fe0-4365-b2f3-ca80a48c7adf",
   "metadata": {},
   "outputs": [
    {
     "name": "stdout",
     "output_type": "stream",
     "text": [
      "float64\n",
      "object\n",
      "bool\n"
     ]
    }
   ],
   "source": [
    "s1 = pd.Series([1.5, 2.3, 3.7])\n",
    "s2 = pd.Series(['apple', 'banana', 'cherry'])\n",
    "s3 = pd.Series([True, False, True])\n",
    "print(s1.dtype)\n",
    "print(s2.dtype)\n",
    "print(s3.dtype)"
   ]
  },
  {
   "cell_type": "code",
   "execution_count": 75,
   "id": "5a43863e-1cc7-4dae-baa5-a62df5723554",
   "metadata": {},
   "outputs": [
    {
     "name": "stdout",
     "output_type": "stream",
     "text": [
      "0    1\n",
      "1    2\n",
      "2    3\n",
      "dtype: int32\n",
      "int32\n"
     ]
    }
   ],
   "source": [
    "s1_int = s1.astype(int)\n",
    "print(s1_int)\n",
    "print(s1_int.dtype)"
   ]
  },
  {
   "cell_type": "code",
   "execution_count": 78,
   "id": "93a41cc5-3ec6-4e41-b16b-32f90fb3633e",
   "metadata": {},
   "outputs": [
    {
     "name": "stdout",
     "output_type": "stream",
     "text": [
      "object\n"
     ]
    }
   ],
   "source": [
    "s4 = pd.Series([10, 'apple', 3.14, True])\n",
    "print(s4.dtype)"
   ]
  },
  {
   "cell_type": "code",
   "execution_count": 81,
   "id": "892536d3-278a-4d11-b232-3b156a9acc2a",
   "metadata": {},
   "outputs": [
    {
     "name": "stdout",
     "output_type": "stream",
     "text": [
      "0    False\n",
      "1     True\n",
      "2    False\n",
      "3     True\n",
      "4    False\n",
      "dtype: bool\n"
     ]
    }
   ],
   "source": [
    "s = pd.Series([10, np.nan, 30, None, 50])\n",
    "print(s.isnull())"
   ]
  },
  {
   "cell_type": "code",
   "execution_count": 84,
   "id": "b443e6c5-b3ed-4bfb-8245-e33b6e4918fe",
   "metadata": {},
   "outputs": [
    {
     "name": "stdout",
     "output_type": "stream",
     "text": [
      "0     True\n",
      "1    False\n",
      "2     True\n",
      "3    False\n",
      "4     True\n",
      "dtype: bool\n"
     ]
    }
   ],
   "source": [
    "print(s.notnull())"
   ]
  },
  {
   "cell_type": "code",
   "execution_count": 87,
   "id": "127edfdc-9794-4a3a-aff9-11f222152cb3",
   "metadata": {},
   "outputs": [
    {
     "name": "stdout",
     "output_type": "stream",
     "text": [
      "0    10.0\n",
      "2    30.0\n",
      "4    50.0\n",
      "dtype: float64\n"
     ]
    }
   ],
   "source": [
    "filtered_s = s[s.notnull()]\n",
    "print(filtered_s)"
   ]
  },
  {
   "cell_type": "code",
   "execution_count": 90,
   "id": "8aac1e78-f270-4bbf-a61c-32b150012a43",
   "metadata": {},
   "outputs": [
    {
     "name": "stdout",
     "output_type": "stream",
     "text": [
      "1   NaN\n",
      "3   NaN\n",
      "dtype: float64\n"
     ]
    }
   ],
   "source": [
    "missing_values = s[s.isnull()]\n",
    "print(missing_values)"
   ]
  },
  {
   "cell_type": "code",
   "execution_count": 93,
   "id": "42c3283b-e844-403c-9800-2ba274081efb",
   "metadata": {},
   "outputs": [
    {
     "name": "stdout",
     "output_type": "stream",
     "text": [
      "0    10.0\n",
      "1     0.0\n",
      "2    30.0\n",
      "3     0.0\n",
      "4    50.0\n",
      "dtype: float64\n"
     ]
    }
   ],
   "source": [
    "s = pd.Series([10, np.nan, 30, None, 50])\n",
    "s_filled = s.fillna(0)\n",
    "print(s_filled)"
   ]
  },
  {
   "cell_type": "code",
   "execution_count": 96,
   "id": "e016c3fd-2a91-4262-b567-e0ba6e1c5573",
   "metadata": {},
   "outputs": [
    {
     "name": "stdout",
     "output_type": "stream",
     "text": [
      "0    10.0\n",
      "1    30.0\n",
      "2    30.0\n",
      "3    30.0\n",
      "4    50.0\n",
      "dtype: float64\n"
     ]
    }
   ],
   "source": [
    "s_filled = s.fillna(s.mean())\n",
    "print(s_filled)"
   ]
  },
  {
   "cell_type": "code",
   "execution_count": 99,
   "id": "5e08d313-baff-490a-aacc-d10bf8072d3b",
   "metadata": {},
   "outputs": [
    {
     "name": "stdout",
     "output_type": "stream",
     "text": [
      "0    10.0\n",
      "2    30.0\n",
      "4    50.0\n",
      "dtype: float64\n"
     ]
    }
   ],
   "source": [
    "s_cleaned = s.dropna()\n",
    "print(s_cleaned)"
   ]
  },
  {
   "cell_type": "code",
   "execution_count": 102,
   "id": "54bb8785-3a82-4c6f-a07a-3b9314b74c3d",
   "metadata": {},
   "outputs": [
    {
     "name": "stdout",
     "output_type": "stream",
     "text": [
      "0     20\n",
      "1     40\n",
      "2     60\n",
      "3     80\n",
      "4    100\n",
      "dtype: int64\n"
     ]
    }
   ],
   "source": [
    "s = pd.Series([10, 20, 30, 40, 50])\n",
    "s_multiplied = s * 2\n",
    "print(s_multiplied)"
   ]
  },
  {
   "cell_type": "code",
   "execution_count": 105,
   "id": "bc6b93ad-2cd3-4c6d-b25a-830471df0692",
   "metadata": {},
   "outputs": [
    {
     "name": "stdout",
     "output_type": "stream",
     "text": [
      "a    11\n",
      "b    22\n",
      "c    33\n",
      "d    44\n",
      "e    55\n",
      "dtype: int64\n"
     ]
    }
   ],
   "source": [
    "s1 = pd.Series([1, 2, 3, 4, 5], index=['a', 'b', 'c', 'd', 'e'])\n",
    "s2 = pd.Series([10, 20, 30, 40, 50], index=['a', 'b', 'c', 'd', 'e'])\n",
    "s_sum = s1 + s2\n",
    "print(s_sum)"
   ]
  },
  {
   "cell_type": "code",
   "execution_count": 108,
   "id": "45104f77-8123-4510-b18f-b12419482223",
   "metadata": {},
   "outputs": [
    {
     "name": "stdout",
     "output_type": "stream",
     "text": [
      "a    101.0\n",
      "b    202.0\n",
      "c      NaN\n",
      "d      NaN\n",
      "e      NaN\n",
      "f      NaN\n",
      "dtype: float64\n"
     ]
    }
   ],
   "source": [
    "s3 = pd.Series([100, 200, 300], index=['a', 'b', 'f'])\n",
    "s_result = s1 + s3\n",
    "print(s_result)"
   ]
  },
  {
   "cell_type": "code",
   "execution_count": 111,
   "id": "d422a63f-e00b-45fb-ba0c-7a78be823086",
   "metadata": {},
   "outputs": [
    {
     "name": "stdout",
     "output_type": "stream",
     "text": [
      "a    101.0\n",
      "b    202.0\n",
      "c      3.0\n",
      "d      4.0\n",
      "e      5.0\n",
      "f    300.0\n",
      "dtype: float64\n"
     ]
    }
   ],
   "source": [
    "s_result = s1.add(s3, fill_value=0)\n",
    "print(s_result)"
   ]
  },
  {
   "cell_type": "code",
   "execution_count": 114,
   "id": "2d7c1709-168c-415f-936c-f361289c3ade",
   "metadata": {},
   "outputs": [
    {
     "name": "stdout",
     "output_type": "stream",
     "text": [
      "0     1\n",
      "1     4\n",
      "2     9\n",
      "3    16\n",
      "4    25\n",
      "dtype: int64\n"
     ]
    }
   ],
   "source": [
    "s = pd.Series([1, 2, 3, 4, 5])\n",
    "s_squared = s.apply(lambda x: x ** 2)\n",
    "print(s_squared)"
   ]
  },
  {
   "cell_type": "code",
   "execution_count": 117,
   "id": "d155a677-a81f-4029-ab3e-cde99e08742a",
   "metadata": {},
   "outputs": [
    {
     "name": "stdout",
     "output_type": "stream",
     "text": [
      "0    Value: 1\n",
      "1    Value: 2\n",
      "2    Value: 3\n",
      "3    Value: 4\n",
      "4    Value: 5\n",
      "dtype: object\n"
     ]
    }
   ],
   "source": [
    "def custom_function(x):\n",
    "    return f\"Value: {x}\"\n",
    "s_transformed = s.apply(custom_function)\n",
    "print(s_transformed)"
   ]
  },
  {
   "cell_type": "code",
   "execution_count": 120,
   "id": "ab37999c-cfe6-4448-a2c7-45fdb4f87eb9",
   "metadata": {},
   "outputs": [
    {
     "name": "stdout",
     "output_type": "stream",
     "text": [
      "0    0.000000\n",
      "1    0.693147\n",
      "2    1.098612\n",
      "3    1.386294\n",
      "4    1.609438\n",
      "dtype: float64\n"
     ]
    }
   ],
   "source": [
    "s_log = s.apply(np.log)\n",
    "print(s_log)"
   ]
  },
  {
   "cell_type": "code",
   "execution_count": 123,
   "id": "a67a4415-54ca-4823-8902-856fd1005d0f",
   "metadata": {},
   "outputs": [
    {
     "name": "stdout",
     "output_type": "stream",
     "text": [
      "0     APPLE\n",
      "1    BANANA\n",
      "2    CHERRY\n",
      "dtype: object\n"
     ]
    }
   ],
   "source": [
    "s_text = pd.Series(['apple', 'banana', 'cherry'])\n",
    "s_upper = s_text.apply(str.upper)\n",
    "print(s_upper)"
   ]
  },
  {
   "cell_type": "code",
   "execution_count": 126,
   "id": "9b39e280-03a8-4995-8ec4-d9a5421c83e6",
   "metadata": {},
   "outputs": [
    {
     "name": "stdout",
     "output_type": "stream",
     "text": [
      "150\n"
     ]
    }
   ],
   "source": [
    "s = pd.Series([10, 20, 30, 40, 50])\n",
    "print(s.sum())"
   ]
  },
  {
   "cell_type": "code",
   "execution_count": 129,
   "id": "e67ace0c-1cd3-4768-83c8-7526ee144f94",
   "metadata": {},
   "outputs": [
    {
     "name": "stdout",
     "output_type": "stream",
     "text": [
      "120.0\n"
     ]
    }
   ],
   "source": [
    "s_with_nan = pd.Series([10, 20, None, 40, 50])\n",
    "print(s_with_nan.sum())"
   ]
  },
  {
   "cell_type": "code",
   "execution_count": 132,
   "id": "12be20cc-232c-4779-aadd-6d0cc09beabb",
   "metadata": {},
   "outputs": [
    {
     "name": "stdout",
     "output_type": "stream",
     "text": [
      "30.0\n"
     ]
    }
   ],
   "source": [
    "print(s.mean())"
   ]
  },
  {
   "cell_type": "code",
   "execution_count": 135,
   "id": "25b0ac9e-7717-485c-ae16-f43c5a1aae89",
   "metadata": {},
   "outputs": [
    {
     "name": "stdout",
     "output_type": "stream",
     "text": [
      "30.0\n"
     ]
    }
   ],
   "source": [
    "print(s_with_nan.mean())"
   ]
  },
  {
   "cell_type": "code",
   "execution_count": 138,
   "id": "1340612d-ef9e-4a42-8aa4-c5200539b788",
   "metadata": {},
   "outputs": [
    {
     "name": "stdout",
     "output_type": "stream",
     "text": [
      "10\n",
      "50\n"
     ]
    }
   ],
   "source": [
    "print(s.min())\n",
    "print(s.max())"
   ]
  },
  {
   "cell_type": "code",
   "execution_count": 141,
   "id": "06156186-6364-4e72-be5e-0680e26b1c0b",
   "metadata": {},
   "outputs": [
    {
     "name": "stdout",
     "output_type": "stream",
     "text": [
      "count     5.000000\n",
      "mean     30.000000\n",
      "std      15.811388\n",
      "min      10.000000\n",
      "25%      20.000000\n",
      "50%      30.000000\n",
      "75%      40.000000\n",
      "max      50.000000\n",
      "dtype: float64\n"
     ]
    }
   ],
   "source": [
    "print(s.describe())"
   ]
  },
  {
   "cell_type": "code",
   "execution_count": 144,
   "id": "101145b7-bb46-4a45-b1e0-5d5e74a74784",
   "metadata": {},
   "outputs": [
    {
     "name": "stdout",
     "output_type": "stream",
     "text": [
      "count         5\n",
      "unique        3\n",
      "top       apple\n",
      "freq          2\n",
      "dtype: object\n"
     ]
    }
   ],
   "source": [
    "s_text = pd.Series(['apple', 'banana', 'apple', 'cherry', 'banana'])\n",
    "print(s_text.describe())"
   ]
  },
  {
   "cell_type": "code",
   "execution_count": 147,
   "id": "58e9c097-b074-4f4c-8096-a3179241ee68",
   "metadata": {},
   "outputs": [
    {
     "name": "stdout",
     "output_type": "stream",
     "text": [
      "0    0.000000\n",
      "1    0.693147\n",
      "2    1.098612\n",
      "3    1.386294\n",
      "4    1.609438\n",
      "dtype: float64\n"
     ]
    }
   ],
   "source": [
    "s = pd.Series([1, 2, 3, 4, 5])\n",
    "s_log = np.log(s)\n",
    "print(s_log)"
   ]
  },
  {
   "cell_type": "code",
   "execution_count": 150,
   "id": "2e852d1f-30a7-4a63-ab6d-0148d00ff7dc",
   "metadata": {},
   "outputs": [
    {
     "name": "stdout",
     "output_type": "stream",
     "text": [
      "0      2.718282\n",
      "1      7.389056\n",
      "2     20.085537\n",
      "3     54.598150\n",
      "4    148.413159\n",
      "dtype: float64\n"
     ]
    }
   ],
   "source": [
    "s_exp = np.exp(s)\n",
    "print(s_exp)"
   ]
  },
  {
   "cell_type": "code",
   "execution_count": 153,
   "id": "21ccc28f-e669-481a-b798-3bc51240bf46",
   "metadata": {},
   "outputs": [
    {
     "name": "stdout",
     "output_type": "stream",
     "text": [
      "0    1.000000\n",
      "1    1.414214\n",
      "2    1.732051\n",
      "3    2.000000\n",
      "4    2.236068\n",
      "dtype: float64\n"
     ]
    }
   ],
   "source": [
    "s_sqrt = np.sqrt(s)\n",
    "print(s_sqrt)"
   ]
  },
  {
   "cell_type": "code",
   "execution_count": 156,
   "id": "97fdf6d9-f2a3-481b-9263-8c9fbb717580",
   "metadata": {},
   "outputs": [
    {
     "name": "stdout",
     "output_type": "stream",
     "text": [
      "0    0.841471\n",
      "1    0.909297\n",
      "2    0.141120\n",
      "3   -0.756802\n",
      "4   -0.958924\n",
      "dtype: float64\n",
      "0    0.540302\n",
      "1   -0.416147\n",
      "2   -0.989992\n",
      "3   -0.653644\n",
      "4    0.283662\n",
      "dtype: float64\n",
      "0    1\n",
      "1    2\n",
      "2    3\n",
      "3    4\n",
      "4    5\n",
      "dtype: int64\n"
     ]
    }
   ],
   "source": [
    "print(np.sin(s))\n",
    "print(np.cos(s))\n",
    "print(np.abs(s))"
   ]
  },
  {
   "cell_type": "code",
   "execution_count": 159,
   "id": "1226708d-cb07-496c-9357-f3781a321197",
   "metadata": {},
   "outputs": [
    {
     "name": "stdout",
     "output_type": "stream",
     "text": [
      "0    1.0\n",
      "1    NaN\n",
      "2    2.0\n",
      "3    3.0\n",
      "dtype: float64\n"
     ]
    }
   ],
   "source": [
    "s_with_nan = pd.Series([1, np.nan, 4, 9])\n",
    "print(np.sqrt(s_with_nan))"
   ]
  },
  {
   "cell_type": "code",
   "execution_count": 162,
   "id": "47ac0c97-2ddf-4c88-8452-0b2200f2fde0",
   "metadata": {},
   "outputs": [
    {
     "name": "stdout",
     "output_type": "stream",
     "text": [
      "x    10\n",
      "y    20\n",
      "z    30\n",
      "w    40\n",
      "dtype: int64\n"
     ]
    }
   ],
   "source": [
    "s = pd.Series([10, 20, 30, 40], index=['a', 'b', 'c', 'd'])\n",
    "s.index = ['x', 'y', 'z', 'w']\n",
    "print(s)"
   ]
  },
  {
   "cell_type": "code",
   "execution_count": 165,
   "id": "5d7bb871-41c8-4d41-bae7-570857a311e0",
   "metadata": {},
   "outputs": [
    {
     "name": "stdout",
     "output_type": "stream",
     "text": [
      "  index   0\n",
      "0     x  10\n",
      "1     y  20\n",
      "2     z  30\n",
      "3     w  40\n"
     ]
    }
   ],
   "source": [
    "s_reset = s.reset_index()\n",
    "print(s_reset)"
   ]
  },
  {
   "cell_type": "code",
   "execution_count": 168,
   "id": "d90d35b8-ca7b-4fbf-acd9-de695edc5e2d",
   "metadata": {},
   "outputs": [
    {
     "name": "stdout",
     "output_type": "stream",
     "text": [
      "0    10\n",
      "1    20\n",
      "2    30\n",
      "3    40\n",
      "dtype: int64\n"
     ]
    }
   ],
   "source": [
    "s_reset = s.reset_index(drop=True)\n",
    "print(s_reset)"
   ]
  },
  {
   "cell_type": "code",
   "execution_count": 171,
   "id": "66da08b9-48b9-4c76-8640-523af946a185",
   "metadata": {},
   "outputs": [
    {
     "name": "stdout",
     "output_type": "stream",
     "text": [
      "True\n"
     ]
    }
   ],
   "source": [
    "s_unique = pd.Series([10, 20, 30], index=['a', 'b', 'c'])\n",
    "print(s_unique.index.is_unique)"
   ]
  },
  {
   "cell_type": "code",
   "execution_count": 174,
   "id": "575c632c-3487-47c3-86e5-85ae4202eca7",
   "metadata": {},
   "outputs": [
    {
     "name": "stdout",
     "output_type": "stream",
     "text": [
      "False\n"
     ]
    }
   ],
   "source": [
    "s_dublicate = pd.Series([10, 20, 30, 40], index=['a', 'b', 'a', 'c'])\n",
    "print(s_dublicate.index.is_unique)"
   ]
  },
  {
   "cell_type": "code",
   "execution_count": 177,
   "id": "31d99011-c60e-458b-a749-6fc55f86e09f",
   "metadata": {},
   "outputs": [
    {
     "name": "stdout",
     "output_type": "stream",
     "text": [
      "a    10\n",
      "a    30\n",
      "dtype: int64\n"
     ]
    }
   ],
   "source": [
    "print(s_dublicate.loc['a'])"
   ]
  },
  {
   "cell_type": "code",
   "execution_count": 180,
   "id": "f29da68d-2156-41d4-8aa1-f5de23422183",
   "metadata": {},
   "outputs": [
    {
     "name": "stdout",
     "output_type": "stream",
     "text": [
      "0    10\n",
      "1    20\n",
      "2    30\n",
      "3    40\n",
      "dtype: int64\n"
     ]
    }
   ],
   "source": [
    "s_reset = s_dublicate.reset_index(drop=True)\n",
    "print(s_reset)"
   ]
  },
  {
   "cell_type": "code",
   "execution_count": 183,
   "id": "e46e60b9-b10f-4267-ba6f-b848fa84e824",
   "metadata": {},
   "outputs": [
    {
     "name": "stdout",
     "output_type": "stream",
     "text": [
      "a_0    10\n",
      "b_1    20\n",
      "a_2    30\n",
      "c_3    40\n",
      "dtype: int64\n"
     ]
    }
   ],
   "source": [
    "s_dublicate.index = [f\"{i}_{n}\" for n, i in\n",
    "                     enumerate(s_dublicate.index)]\n",
    "print(s_dublicate)"
   ]
  },
  {
   "cell_type": "code",
   "execution_count": 186,
   "id": "5a134502-4b12-4fc8-9333-4c8dc11cd087",
   "metadata": {},
   "outputs": [
    {
     "name": "stdout",
     "output_type": "stream",
     "text": [
      "a    30\n",
      "b    20\n",
      "c    40\n",
      "d    10\n",
      "dtype: int64\n"
     ]
    }
   ],
   "source": [
    "s = pd.Series([10, 20, 30, 40], index=['d', 'b', 'a', 'c'])\n",
    "s_sorted = s.sort_index()\n",
    "print(s_sorted)"
   ]
  },
  {
   "cell_type": "code",
   "execution_count": 189,
   "id": "654cfcf1-1231-4a4e-bdd7-603ece1fd5a2",
   "metadata": {},
   "outputs": [
    {
     "name": "stdout",
     "output_type": "stream",
     "text": [
      "d    10\n",
      "c    40\n",
      "b    20\n",
      "a    30\n",
      "dtype: int64\n"
     ]
    }
   ],
   "source": [
    "s_sorted_desc = s.sort_index(ascending=False)\n",
    "print(s_sorted_desc)"
   ]
  },
  {
   "cell_type": "code",
   "execution_count": 192,
   "id": "24ac7bbb-e133-465a-929f-88debd7c6d69",
   "metadata": {},
   "outputs": [
    {
     "name": "stdout",
     "output_type": "stream",
     "text": [
      "d    10\n",
      "b    20\n",
      "a    30\n",
      "c    40\n",
      "dtype: int64\n"
     ]
    }
   ],
   "source": [
    "s_sorted_values = s.sort_values()\n",
    "print(s_sorted_values)"
   ]
  },
  {
   "cell_type": "code",
   "execution_count": 195,
   "id": "8438f71b-305e-47c8-89f0-83d497748b84",
   "metadata": {},
   "outputs": [
    {
     "name": "stdout",
     "output_type": "stream",
     "text": [
      "c    40\n",
      "a    30\n",
      "b    20\n",
      "d    10\n",
      "dtype: int64\n"
     ]
    }
   ],
   "source": [
    "s_sorted_values_desc = s.sort_values(ascending=False)\n",
    "print(s_sorted_values_desc)"
   ]
  },
  {
   "cell_type": "code",
   "execution_count": 198,
   "id": "3c19bc3a-a2f1-431b-9695-c857ad6763ac",
   "metadata": {},
   "outputs": [
    {
     "name": "stdout",
     "output_type": "stream",
     "text": [
      "a    10.0\n",
      "e    20.0\n",
      "c    30.0\n",
      "b     NaN\n",
      "d     NaN\n",
      "dtype: float64\n"
     ]
    }
   ],
   "source": [
    "s_nan = pd.Series([10, None, 30, None, 20], index=['a', 'b', 'c', 'd', 'e'])\n",
    "print(s_nan.sort_values())"
   ]
  },
  {
   "cell_type": "code",
   "execution_count": 201,
   "id": "6446006a-4847-47e0-b0bd-0c56cb388ed7",
   "metadata": {},
   "outputs": [
    {
     "name": "stdout",
     "output_type": "stream",
     "text": [
      "b     NaN\n",
      "d     NaN\n",
      "a    10.0\n",
      "e    20.0\n",
      "c    30.0\n",
      "dtype: float64\n"
     ]
    }
   ],
   "source": [
    "print(s_nan.sort_values(na_position='first'))"
   ]
  },
  {
   "cell_type": "code",
   "execution_count": 204,
   "id": "dbd01ea5-0fa6-4bcb-af21-94ecfaa2e1c1",
   "metadata": {},
   "outputs": [
    {
     "name": "stdout",
     "output_type": "stream",
     "text": [
      "2024-03-01    100\n",
      "2024-03-02    105\n",
      "2024-03-03    102\n",
      "2024-03-04     98\n",
      "2024-03-05    110\n",
      "Freq: D, dtype: int64\n"
     ]
    }
   ],
   "source": [
    "dates = pd.date_range(start='2024-03-01', periods=5, freq='D')\n",
    "s = pd.Series([100, 105, 102, 98, 110], index=dates)\n",
    "print(s)"
   ]
  },
  {
   "cell_type": "code",
   "execution_count": 207,
   "id": "6f2acc72-5dd8-4ca9-b309-0ff3eca27f79",
   "metadata": {},
   "outputs": [
    {
     "name": "stdout",
     "output_type": "stream",
     "text": [
      "102\n"
     ]
    }
   ],
   "source": [
    "print(s['2024-03-03'])"
   ]
  },
  {
   "cell_type": "code",
   "execution_count": 211,
   "id": "ef63791b-0904-443e-87c4-ce595050ed69",
   "metadata": {},
   "outputs": [
    {
     "name": "stdout",
     "output_type": "stream",
     "text": [
      "2024-03-02    105\n",
      "2024-03-03    102\n",
      "2024-03-04     98\n",
      "Freq: D, dtype: int64\n"
     ]
    }
   ],
   "source": [
    "print(s['2024-03-02':'2024-03-04'])"
   ]
  },
  {
   "cell_type": "code",
   "execution_count": 214,
   "id": "14c9a0d8-8233-48ef-a1e5-36500ba17d74",
   "metadata": {},
   "outputs": [
    {
     "name": "stdout",
     "output_type": "stream",
     "text": [
      "2024-03-01 00:00:00    10\n",
      "2024-03-01 01:00:00    15\n",
      "2024-03-01 02:00:00    12\n",
      "2024-03-01 03:00:00     8\n",
      "2024-03-01 04:00:00    20\n",
      "Freq: h, dtype: int64\n"
     ]
    }
   ],
   "source": [
    "dates = pd.date_range(start='2024-03-01', periods=5, freq='h')\n",
    "s = pd.Series([10, 15, 12, 8, 20], index=dates)\n",
    "print(s)"
   ]
  },
  {
   "cell_type": "code",
   "execution_count": 217,
   "id": "a5ce1f5e-409b-4dbb-b2a2-e861134dcf61",
   "metadata": {},
   "outputs": [
    {
     "name": "stdout",
     "output_type": "stream",
     "text": [
      "2024-03-01    100\n",
      "2024-03-02    200\n",
      "2024-03-03    150\n",
      "dtype: int64\n"
     ]
    }
   ],
   "source": [
    "s = pd.Series([100, 200, 150], index=['2024-03-01', '2024-03-02', '2024-03-03'])\n",
    "s.index = pd.to_datetime(s.index)\n",
    "print(s)"
   ]
  },
  {
   "cell_type": "code",
   "execution_count": 220,
   "id": "d6921cb5-6da7-4775-9837-2234f6ea5205",
   "metadata": {},
   "outputs": [
    {
     "name": "stdout",
     "output_type": "stream",
     "text": [
      "2024-03-01    100.0\n",
      "2024-03-02    200.0\n",
      "2024-03-03    150.0\n",
      "Freq: D, dtype: float64\n"
     ]
    }
   ],
   "source": [
    "print(s.resample('D').mean())"
   ]
  },
  {
   "cell_type": "code",
   "execution_count": 223,
   "id": "61c65804-3e6f-463d-abb4-145dd5b55e4b",
   "metadata": {},
   "outputs": [
    {
     "name": "stdout",
     "output_type": "stream",
     "text": [
      "2024-03-01    100\n",
      "2024-03-02    200\n",
      "2024-03-03    150\n",
      "dtype: int64\n"
     ]
    }
   ],
   "source": [
    "print(s[s.index.year == 2024])"
   ]
  },
  {
   "cell_type": "code",
   "execution_count": 226,
   "id": "ef568a37-4709-4af0-8822-19c73d4f1e0a",
   "metadata": {},
   "outputs": [
    {
     "name": "stdout",
     "output_type": "stream",
     "text": [
      "2024-03-01      NaN\n",
      "2024-03-02    100.0\n",
      "2024-03-03    200.0\n",
      "dtype: float64\n"
     ]
    }
   ],
   "source": [
    "print(s.shift(1))"
   ]
  },
  {
   "cell_type": "code",
   "execution_count": 229,
   "id": "6454de66-c5a7-41d9-b34a-45f1ed660d47",
   "metadata": {},
   "outputs": [
    {
     "name": "stdout",
     "output_type": "stream",
     "text": [
      "2024-03-01     NaN\n",
      "2024-03-02     NaN\n",
      "2024-03-03    20.0\n",
      "2024-03-04    30.0\n",
      "2024-03-05    40.0\n",
      "2024-03-06    50.0\n",
      "2024-03-07    60.0\n",
      "Freq: D, dtype: float64\n"
     ]
    }
   ],
   "source": [
    "s = pd.Series([10, 20, 30, 40, 50, 60, 70], index=pd.date_range('2024-03-01', periods=7, freq='D'))\n",
    "s_ma = s.rolling(window=3).mean()\n",
    "print(s_ma)"
   ]
  },
  {
   "cell_type": "code",
   "execution_count": 232,
   "id": "532ee786-5568-4899-9544-5e85450abb20",
   "metadata": {},
   "outputs": [
    {
     "name": "stdout",
     "output_type": "stream",
     "text": [
      "2024-03-01     NaN\n",
      "2024-03-02     NaN\n",
      "2024-03-03     NaN\n",
      "2024-03-04     NaN\n",
      "2024-03-05    30.0\n",
      "2024-03-06    40.0\n",
      "2024-03-07    50.0\n",
      "Freq: D, dtype: float64\n"
     ]
    }
   ],
   "source": [
    "s_ma5 = s.rolling(window=5).mean()\n",
    "print(s_ma5)"
   ]
  },
  {
   "cell_type": "code",
   "execution_count": 235,
   "id": "62663b1d-b194-40ca-939f-9c97ade257ab",
   "metadata": {},
   "outputs": [
    {
     "name": "stdout",
     "output_type": "stream",
     "text": [
      "2024-03-01    10.0\n",
      "2024-03-02    15.0\n",
      "2024-03-03    20.0\n",
      "2024-03-04    30.0\n",
      "2024-03-05    40.0\n",
      "2024-03-06    50.0\n",
      "2024-03-07    60.0\n",
      "Freq: D, dtype: float64\n"
     ]
    }
   ],
   "source": [
    "s_ma2 = s.rolling(window=3, min_periods=1).mean()\n",
    "print(s_ma2)"
   ]
  },
  {
   "cell_type": "code",
   "execution_count": 240,
   "id": "a74fd704-982e-4714-a0cb-1c787ae08089",
   "metadata": {},
   "outputs": [
    {
     "data": {
      "image/png": "[encoded data removed]",
      "text/plain": [
       "<Figure size 800x400 with 1 Axes>"
      ]
     },
     "metadata": {},
     "output_type": "display_data"
    }
   ],
   "source": [
    "import matplotlib.pyplot as plt\n",
    "plt.figure(figsize=(8, 4))\n",
    "plt.plot(s, label=\"Исходные данные\", marker=\"o\")\n",
    "plt.plot(s.rolling(window=3).mean(), label=\"Скользящее среднее (3)\",\n",
    "linestyle=\"--\", color=\"green\")\n",
    "plt.xlabel(\"Дата\")\n",
    "plt.ylabel(\"Значение\")\n",
    "plt.title(\"Скользящее среднее в Series\")\n",
    "plt.legend()\n",
    "plt.grid()\n",
    "plt.show()"
   ]
  },
  {
   "cell_type": "code",
   "execution_count": 245,
   "id": "2a321ce3-fa19-4aac-b31e-cb1f1e39f5e9",
   "metadata": {},
   "outputs": [
    {
     "name": "stdout",
     "output_type": "stream",
     "text": [
      "0         NaN\n",
      "1    0.100000\n",
      "2    0.090909\n",
      "3   -0.250000\n",
      "4    0.666667\n",
      "dtype: float64\n"
     ]
    }
   ],
   "source": [
    "s = pd.Series([100, 110, 120, 90, 150])\n",
    "print(s.pct_change())"
   ]
  },
  {
   "cell_type": "code",
   "execution_count": 248,
   "id": "724bc9e0-4ba7-4cf8-973b-06daf84282c5",
   "metadata": {},
   "outputs": [
    {
     "name": "stdout",
     "output_type": "stream",
     "text": [
      "0          NaN\n",
      "1    10.000000\n",
      "2     9.090909\n",
      "3   -25.000000\n",
      "4    66.666667\n",
      "dtype: float64\n"
     ]
    }
   ],
   "source": [
    "print(s.pct_change() * 100)"
   ]
  },
  {
   "cell_type": "code",
   "execution_count": 251,
   "id": "8c9ad2d2-7ec5-4713-83d5-8133dbd8e313",
   "metadata": {},
   "outputs": [
    {
     "name": "stdout",
     "output_type": "stream",
     "text": [
      "0         NaN\n",
      "1         NaN\n",
      "2    0.200000\n",
      "3   -0.181818\n",
      "4    0.250000\n",
      "dtype: float64\n"
     ]
    }
   ],
   "source": [
    "print(s.pct_change(periods=2))"
   ]
  },
  {
   "cell_type": "code",
   "execution_count": 254,
   "id": "cf737d4e-8d38-4ed7-93ea-1f87f4b9ce2f",
   "metadata": {},
   "outputs": [
    {
     "data": {
      "image/png": "[encoded data removed]",
      "text/plain": [
       "<Figure size 1000x500 with 1 Axes>"
      ]
     },
     "metadata": {},
     "output_type": "display_data"
    },
    {
     "data": {
      "image/png": "[encoded data removed]",
      "text/plain": [
       "<Figure size 1000x500 with 1 Axes>"
      ]
     },
     "metadata": {},
     "output_type": "display_data"
    }
   ],
   "source": [
    "dates = pd.date_range(start=\"2024-01-01\", periods=30, freq=\"D\")\n",
    "prices = pd.Series(np.random.randint(90, 110, size=30), index=dates)\n",
    "returns = prices.pct_change() * 100\n",
    "plt.figure(figsize=(10, 5))\n",
    "plt.plot(prices, label=\"Цена акции\", marker=\"o\")\n",
    "plt.ylabel(\"Цена\")\n",
    "plt.xlabel(\"Дата\")\n",
    "plt.title(\"График цены акции\")\n",
    "plt.figure(figsize=(10, 5))\n",
    "plt.bar(returns.index, returns, color=\"green\", alpha=0.7,\n",
    "label=\"Процентное изменение\")\n",
    "plt.axhline(0, color=\"black\", linestyle=\"--\")\n",
    "plt.ylabel(\"Изменение (%)\")\n",
    "plt.xlabel(\"Дата\")\n",
    "plt.title(\"Процентное изменение цены акции\")\n",
    "plt.legend()\n",
    "plt.show()"
   ]
  }
 ],
 "metadata": {
  "kernelspec": {
   "display_name": "Python [conda env:base] *",
   "language": "python",
   "name": "conda-base-py"
  },
  "language_info": {
   "codemirror_mode": {
    "name": "ipython",
    "version": 3
   },
   "file_extension": ".py",
   "mimetype": "text/x-python",
   "name": "python",
   "nbconvert_exporter": "python",
   "pygments_lexer": "ipython3",
   "version": "3.12.7"
  }
 },
 "nbformat": 4,
 "nbformat_minor": 5
}
