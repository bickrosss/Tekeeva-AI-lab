{
 "cells": [
  {
   "cell_type": "markdown",
   "id": "1f6d1ae1-7685-4e41-ab5f-9a69391093a5",
   "metadata": {},
   "source": [
    "1. Создание Series из списка"
   ]
  },
  {
   "cell_type": "code",
   "execution_count": 3,
   "id": "f5a76d71-8b5c-49ae-bb4f-c955d35ed0c9",
   "metadata": {},
   "outputs": [
    {
     "name": "stdout",
     "output_type": "stream",
     "text": [
      "a     5\n",
      "b    15\n",
      "c    25\n",
      "d    35\n",
      "e    45\n",
      "dtype: int64\n",
      "Тип данных: int64\n"
     ]
    }
   ],
   "source": [
    "import pandas as pd\n",
    "s = pd.Series([5, 15, 25, 35, 45], index=['a', 'b', 'c', 'd', 'e'])\n",
    "print(s)\n",
    "print(\"Тип данных:\", s.dtype)"
   ]
  },
  {
   "cell_type": "markdown",
   "id": "79eb804c-b8ec-40fe-a96d-c7f3043e461a",
   "metadata": {},
   "source": [
    "2. Получение элемента Series"
   ]
  },
  {
   "cell_type": "code",
   "execution_count": 5,
   "id": "f4e902a6-1b5f-4031-ada8-cb7ac5f772a4",
   "metadata": {},
   "outputs": [
    {
     "name": "stdout",
     "output_type": "stream",
     "text": [
      "По метке: 36\n",
      "По позиции: 36\n"
     ]
    }
   ],
   "source": [
    "s = pd.Series([12, 24, 36, 48, 60], index=['A', 'B', 'C', 'D', 'E'])\n",
    "print(\"По метке:\", s.loc['C'])\n",
    "print(\"По позиции:\", s.iloc[2])"
   ]
  },
  {
   "cell_type": "markdown",
   "id": "20cd4006-bcad-4f72-acca-5573fd227a4c",
   "metadata": {},
   "source": [
    "3. Фильтрация данных с помощью логической индексации"
   ]
  },
  {
   "cell_type": "code",
   "execution_count": 7,
   "id": "d94739cb-a514-44a7-bfaf-bbea3e145f9b",
   "metadata": {},
   "outputs": [
    {
     "name": "stdout",
     "output_type": "stream",
     "text": [
      "3    25\n",
      "4    36\n",
      "5    49\n",
      "6    64\n",
      "dtype: int32\n"
     ]
    }
   ],
   "source": [
    "import numpy as np\n",
    "s = pd.Series(np.array([4, 9, 16, 25, 36, 49, 64]))\n",
    "print(s[s > 20])"
   ]
  },
  {
   "cell_type": "markdown",
   "id": "09695237-a143-42df-8bd9-9dbc50f8a9a0",
   "metadata": {},
   "source": [
    "4. Просмотр первых и последних элементов"
   ]
  },
  {
   "cell_type": "code",
   "execution_count": 9,
   "id": "ae8704bf-b3b2-47b3-9d79-0d38dfb2b89d",
   "metadata": {},
   "outputs": [
    {
     "name": "stdout",
     "output_type": "stream",
     "text": [
      "Первые 7:\n",
      " 0    82\n",
      "1    19\n",
      "2    50\n",
      "3    29\n",
      "4    63\n",
      "5    91\n",
      "6    59\n",
      "dtype: int32\n",
      "Последние 5:\n",
      " 45    13\n",
      "46    23\n",
      "47    51\n",
      "48    67\n",
      "49    12\n",
      "dtype: int32\n"
     ]
    }
   ],
   "source": [
    "s = pd.Series(np.random.randint(1, 101, size=50))\n",
    "print(\"Первые 7:\\n\", s.head(7))\n",
    "print(\"Последние 5:\\n\", s.tail(5))"
   ]
  },
  {
   "cell_type": "markdown",
   "id": "b88ed604-b49e-466f-a0d6-8d87bdf5f739",
   "metadata": {},
   "source": [
    "5. Определение типа данных Series"
   ]
  },
  {
   "cell_type": "code",
   "execution_count": 11,
   "id": "f057e874-1382-49b2-9e52-8e6e43e9180b",
   "metadata": {},
   "outputs": [
    {
     "name": "stdout",
     "output_type": "stream",
     "text": [
      "Тип: object\n",
      "После преобразования: category\n"
     ]
    }
   ],
   "source": [
    "s = pd.Series(['cat', 'dog', 'rabbit', 'parrot', 'fish'])\n",
    "print(\"Тип:\", s.dtype)\n",
    "s = s.astype('category')\n",
    "print(\"После преобразования:\", s.dtype)"
   ]
  },
  {
   "cell_type": "markdown",
   "id": "42b3d3e5-d8aa-44e9-8c84-05ab5dbe1f41",
   "metadata": {},
   "source": [
    "6. Проверка пропущенных значений"
   ]
  },
  {
   "cell_type": "code",
   "execution_count": 53,
   "id": "d180c03a-f719-4948-8592-7ff55d0bccdb",
   "metadata": {},
   "outputs": [
    {
     "name": "stdout",
     "output_type": "stream",
     "text": [
      "Index([1, 3], dtype='int64')\n"
     ]
    }
   ],
   "source": [
    "s = pd.Series([1.2, np.nan, 3.4, np.nan, 5.6, 6.8])\n",
    "print(s[s.isnull()].index)"
   ]
  },
  {
   "cell_type": "markdown",
   "id": "b752baea-6bd9-4daa-968d-11ff6345b575",
   "metadata": {},
   "source": [
    " 7. Заполнение пропущенных значений"
   ]
  },
  {
   "cell_type": "code",
   "execution_count": 56,
   "id": "23184044-6547-48e4-9596-ed4ac063886f",
   "metadata": {},
   "outputs": [
    {
     "name": "stdout",
     "output_type": "stream",
     "text": [
      "0    1.20\n",
      "1    4.25\n",
      "2    3.40\n",
      "3    4.25\n",
      "4    5.60\n",
      "5    6.80\n",
      "dtype: float64\n"
     ]
    }
   ],
   "source": [
    "s = pd.Series([1.2, np.nan, 3.4, np.nan, 5.6, 6.8])\n",
    "s_2 = s.fillna(s.mean())\n",
    "print(s_2)"
   ]
  },
  {
   "cell_type": "markdown",
   "id": "714ea869-3564-4950-9070-1a3ef019b643",
   "metadata": {},
   "source": [
    "8. Арифметические операции с Series"
   ]
  },
  {
   "cell_type": "code",
   "execution_count": 86,
   "id": "a21f60ad-d286-4078-82cd-49734cb2c1b6",
   "metadata": {},
   "outputs": [
    {
     "name": "stdout",
     "output_type": "stream",
     "text": [
      "a     NaN\n",
      "b    25.0\n",
      "c    45.0\n",
      "d    65.0\n",
      "e     NaN\n",
      "dtype: float64\n",
      "a     0.0\n",
      "b    25.0\n",
      "c    45.0\n",
      "d    65.0\n",
      "e     0.0\n",
      "dtype: float64\n"
     ]
    }
   ],
   "source": [
    "s1 = pd.Series([10, 20, 30, 40], index=['a', 'b', 'c', 'd'])\n",
    "s2 = pd.Series([5, 15, 25, 35], index=['b', 'c', 'd', 'e'])\n",
    "s3 = s1 + s2\n",
    "print(s3)\n",
    "s_2 = s3.fillna(0)\n",
    "print(s_2)"
   ]
  },
  {
   "cell_type": "markdown",
   "id": "93c72f97-609b-4baa-9f46-9efb5ec6db92",
   "metadata": {},
   "source": [
    "9. Применение функции к Series"
   ]
  },
  {
   "cell_type": "code",
   "execution_count": 13,
   "id": "63e33bbe-bcf0-4914-b75b-ec75d8e17297",
   "metadata": {},
   "outputs": [
    {
     "name": "stdout",
     "output_type": "stream",
     "text": [
      "0    1.414214\n",
      "1    2.000000\n",
      "2    2.449490\n",
      "3    2.828427\n",
      "4    3.162278\n",
      "dtype: float64\n"
     ]
    }
   ],
   "source": [
    "s = pd.Series([2, 4, 6, 8, 10])\n",
    "print(s.apply(np.sqrt))"
   ]
  },
  {
   "cell_type": "markdown",
   "id": "d14301fc-7f86-4d14-a443-53c8279e0a5c",
   "metadata": {},
   "source": [
    "10. Основные статистические методы"
   ]
  },
  {
   "cell_type": "code",
   "execution_count": 15,
   "id": "3247c758-20fb-42d8-a17f-fa1502439713",
   "metadata": {},
   "outputs": [
    {
     "name": "stdout",
     "output_type": "stream",
     "text": [
      "Сумма: 1932\n",
      "Среднее: 96.6\n",
      "Минимум: 64\n",
      "Максимум: 150\n",
      "Стандартное отклонение: 29.01070582787635\n"
     ]
    }
   ],
   "source": [
    "s = pd.Series(np.random.randint(50, 151, size=20))\n",
    "print(\"Сумма:\", s.sum())\n",
    "print(\"Среднее:\", s.mean())\n",
    "print(\"Минимум:\", s.min())\n",
    "print(\"Максимум:\", s.max())\n",
    "print(\"Стандартное отклонение:\", s.std())"
   ]
  },
  {
   "cell_type": "markdown",
   "id": "1874c573-f9b3-4c0f-a3c5-a084754ff3fe",
   "metadata": {},
   "source": [
    "11. Работа с временными рядами"
   ]
  },
  {
   "cell_type": "code",
   "execution_count": 68,
   "id": "914dc9dd-bcf8-4d89-bb27-3e63b80c88eb",
   "metadata": {},
   "outputs": [
    {
     "name": "stdout",
     "output_type": "stream",
     "text": [
      "2024-03-05    17\n",
      "2024-03-06    48\n",
      "2024-03-07    89\n",
      "2024-03-08    40\n",
      "Freq: D, dtype: int32\n"
     ]
    }
   ],
   "source": [
    "s = pd.Series(np.random.randint(10, 101, 10), pd.date_range(start='2024-03-01', periods=10, freq='D'))\n",
    "print(s['2024-03-05':'2024-03-08'])"
   ]
  },
  {
   "cell_type": "markdown",
   "id": "8b017784-1db2-4080-8f5e-9c60afedbf79",
   "metadata": {},
   "source": [
    "12. Проверка уникальности индексов"
   ]
  },
  {
   "cell_type": "code",
   "execution_count": 19,
   "id": "447ef092-6ad6-41a7-a20e-ceeb6e76f7e3",
   "metadata": {},
   "outputs": [
    {
     "name": "stdout",
     "output_type": "stream",
     "text": [
      "Индексы уникальны? False\n",
      "A    40\n",
      "B    80\n",
      "C    40\n",
      "D    50\n",
      "dtype: int64\n"
     ]
    }
   ],
   "source": [
    "s = pd.Series([10, 20, 30, 40, 50, 60], index=['A', 'B', 'A', 'C', 'D', 'B'])\n",
    "print(\"Индексы уникальны?\", s.index.is_unique)\n",
    "if not s.index.is_unique:\n",
    "    s = s.groupby(level=0).sum()\n",
    "print(s)"
   ]
  },
  {
   "cell_type": "markdown",
   "id": "8a7d9061-4c59-406d-9c9d-9b5dd4c1b846",
   "metadata": {},
   "source": [
    "13. Преобразование строковых дат в DatetimeIndex"
   ]
  },
  {
   "cell_type": "code",
   "execution_count": 74,
   "id": "d4bfabaf-1194-463c-ae43-9fa109c5def0",
   "metadata": {},
   "outputs": [
    {
     "name": "stdout",
     "output_type": "stream",
     "text": [
      "DatetimeIndex(['2024-03-10', '2024-03-11', '2024-03-12'], dtype='datetime64[ns]', freq=None)\n"
     ]
    }
   ],
   "source": [
    "a = ['2024-03-10', '2024-03-11', '2024-03-12']\n",
    "b = [100, 200, 300]\n",
    "s = pd.Series(b, index=a)\n",
    "s.index = pd.to_datetime(s.index)\n",
    "print(s.index)"
   ]
  },
  {
   "cell_type": "markdown",
   "id": "44ad83cd-eb0a-4661-97df-5f57b4ef781d",
   "metadata": {},
   "source": [
    "14. Чтение данных из CSV-файла"
   ]
  },
  {
   "cell_type": "code",
   "execution_count": 81,
   "id": "0270f1c8-cb0b-41b1-be28-727732074d1a",
   "metadata": {},
   "outputs": [
    {
     "name": "stdout",
     "output_type": "stream",
     "text": [
      "Дата\n",
      "2024-03-01    100\n",
      "2024-03-02    110\n",
      "2024-03-03    105\n",
      "2024-03-04    120\n",
      "2024-03-05    115\n",
      "dtype: int64\n"
     ]
    }
   ],
   "source": [
    "df = pd.read_csv('data.csv')\n",
    "s = pd.Series(df['Цена'].values, index=df['Дата'])\n",
    "print(s)"
   ]
  },
  {
   "cell_type": "markdown",
   "id": "5662cfa1-5898-4f8a-8b92-6c405712ed25",
   "metadata": {},
   "source": [
    "15. Построение графика на основе Series"
   ]
  },
  {
   "cell_type": "code",
   "execution_count": 84,
   "id": "874c3b0a-0058-4da3-9da2-5098d07ae28e",
   "metadata": {},
   "outputs": [
    {
     "data": {
      "image/png": "[encoded data removed]",
      "text/plain": [
       "<Figure size 1000x800 with 1 Axes>"
      ]
     },
     "metadata": {},
     "output_type": "display_data"
    }
   ],
   "source": [
    "import matplotlib.pyplot as plt\n",
    "a = pd.date_range(start='2024-03-01', periods=30, freq='D')\n",
    "b = np.random.randint(50, 151, 30)\n",
    "s = pd.Series(b, index=a)\n",
    "plt.figure(figsize=(10, 8))\n",
    "plt.title('Построение графика на основе Series')\n",
    "plt.xlabel('Ось x')\n",
    "plt.ylabel('Ось y')\n",
    "plt.grid(True)\n",
    "plt.plot(s.index, s.values)\n",
    "plt.show()"
   ]
  }
 ],
 "metadata": {
  "kernelspec": {
   "display_name": "Python [conda env:base] *",
   "language": "python",
   "name": "conda-base-py"
  },
  "language_info": {
   "codemirror_mode": {
    "name": "ipython",
    "version": 3
   },
   "file_extension": ".py",
   "mimetype": "text/x-python",
   "name": "python",
   "nbconvert_exporter": "python",
   "pygments_lexer": "ipython3",
   "version": "3.12.7"
  }
 },
 "nbformat": 4,
 "nbformat_minor": 5
}
