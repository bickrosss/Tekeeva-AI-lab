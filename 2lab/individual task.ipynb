{
 "cells": [
  {
   "cell_type": "markdown",
   "id": "0986d8b5-3b5b-4143-8163-b54744bdf5fc",
   "metadata": {},
   "source": [
    "# Вариант 17\n",
    "### Распределение электроэнергии. Город получает электроэнергию от трех электростанций. Первая станция дает в два раза больше энергии, чем вторая, а третья — на 200 МВт больше, чем вторая. Всего требуется 1500 МВт. Сколько электроэнергии должно поступать с каждой станции?"
   ]
  },
  {
   "cell_type": "code",
   "execution_count": 5,
   "id": "7e04808d-c048-400c-b617-f502c95bd3f7",
   "metadata": {},
   "outputs": [],
   "source": [
    "import numpy as np"
   ]
  },
  {
   "cell_type": "code",
   "execution_count": 10,
   "id": "ef6b82fd-ea0d-47b8-acc3-8c6b480f413d",
   "metadata": {},
   "outputs": [
    {
     "name": "stdout",
     "output_type": "stream",
     "text": [
      "Метод Крамера: [650. 325. 525.]\n",
      "Матричный метод: [650. 325. 525.]\n",
      "Библиотека NumPy: [650. 325. 525.]\n"
     ]
    }
   ],
   "source": [
    "A = np.array([[1, -2, 0],\n",
    "              [0, 1, -1],\n",
    "              [1, 1, 1]]) \n",
    "B = np.array([0, -200, 1500])\n",
    "det_A = np.linalg.det(A)\n",
    "if det_A != 0:\n",
    "    kram1 = np.linalg.det(np.column_stack([B, A[:, 1], A[:, 2]])) / det_A\n",
    "    kram2 = np.linalg.det(np.column_stack([A[:, 0], B, A[:, 2]])) / det_A\n",
    "    kram3 = np.linalg.det(np.column_stack([A[:, 0], A[:, 1], B])) / det_A\n",
    "    kramer = np.array([kram1, kram2, kram3])\n",
    "else:\n",
    "    kramer = \"не применим\"\n",
    "    \n",
    "matrix = np.linalg.inv(A) @ B\n",
    "\n",
    "numpy = np.linalg.solve(A, B)\n",
    "\n",
    "print(\"Метод Крамера:\", kramer)\n",
    "print(\"Матричный метод:\", matrix)\n",
    "print(\"Библиотека NumPy:\", numpy)"
   ]
  }
 ],
 "metadata": {
  "kernelspec": {
   "display_name": "Python [conda env:base] *",
   "language": "python",
   "name": "conda-base-py"
  },
  "language_info": {
   "codemirror_mode": {
    "name": "ipython",
    "version": 3
   },
   "file_extension": ".py",
   "mimetype": "text/x-python",
   "name": "python",
   "nbconvert_exporter": "python",
   "pygments_lexer": "ipython3",
   "version": "3.12.7"
  }
 },
 "nbformat": 4,
 "nbformat_minor": 5
}
