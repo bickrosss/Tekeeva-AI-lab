{
 "cells": [
  {
   "cell_type": "code",
   "execution_count": 1,
   "id": "081bfe5f-3e7b-4c76-a26d-a172eb8574e6",
   "metadata": {},
   "outputs": [
    {
     "name": "stdout",
     "output_type": "stream",
     "text": [
      "[[ 2 10 14]\n",
      " [ 4 12 18]\n",
      " [ 8 16  6]]\n",
      "[[ 2 10  0]\n",
      " [ 4  0  0]\n",
      " [ 8  0  6]]\n"
     ]
    }
   ],
   "source": [
    "import numpy as np\n",
    "matrix = np.matrix(\"1,5,7;2,6,9;4,8,3\")\n",
    "multiple = matrix * 2\n",
    "print(multiple)\n",
    "multiple[multiple > 10] = 0\n",
    "print(multiple)"
   ]
  },
  {
   "cell_type": "code",
   "execution_count": 3,
   "id": "e73ee58d-f3eb-4f18-8d26-57d97185c828",
   "metadata": {},
   "outputs": [
    {
     "name": "stdout",
     "output_type": "stream",
     "text": [
      "[54 37 31 32  8 24 11 30 38 99 10 33 22  3 64 49 26 80 22  9]\n",
      "элементы, которые делятся на 5 без остатка:\n",
      " [30 10 80]\n",
      "Обновлённый массив:\n",
      " [54 37 31 32  8 24 11 -1 38 99 -1 33 22  3 64 49 26 -1 22  9]\n"
     ]
    }
   ],
   "source": [
    "arr = np.random.randint(1, 101, 20)\n",
    "print(arr)\n",
    "div_5 = arr[arr % 5 == 0]\n",
    "print(\"элементы, которые делятся на 5 без остатка:\\n\", div_5)\n",
    "arr[arr % 5 == 0] = -1\n",
    "print(\"Обновлённый массив:\\n\", arr)"
   ]
  },
  {
   "cell_type": "code",
   "execution_count": 5,
   "id": "79668b50-27d4-4fd6-b576-806d0f0d8428",
   "metadata": {},
   "outputs": [
    {
     "name": "stdout",
     "output_type": "stream",
     "text": [
      "Первый массив:\n",
      " [50 50 44 26 36]\n",
      "Второй массив:\n",
      " [25  8 16 39  7]\n",
      "Объединенный массив:\n",
      " [[50 50 44 26 36]\n",
      " [25  8 16 39  7]]\n",
      "Разделенные массивы:\n",
      "Первый: [[50 50 44 26 36]] \n",
      "Второй: [[25  8 16 39  7]]\n"
     ]
    }
   ],
   "source": [
    "a = np.random.randint(0, 51, 5)\n",
    "print(\"Первый массив:\\n\", a)\n",
    "b = np.random.randint(0, 51, 5)\n",
    "print(\"Второй массив:\\n\", b)\n",
    "ab = np.vstack((a,b))\n",
    "print(\"Объединенный массив:\\n\", ab)\n",
    "a1, b1 = np.vsplit(ab, 2)\n",
    "print(\"Разделенные массивы:\\nПервый:\", a1, \"\\nВторой:\", b1)"
   ]
  },
  {
   "cell_type": "code",
   "execution_count": 7,
   "id": "79375856-bb11-4514-b708-7114e8e95dec",
   "metadata": {},
   "outputs": [
    {
     "name": "stdout",
     "output_type": "stream",
     "text": [
      "Созданный массив:  [-10 -10 -10  -9  -9  -8  -8  -8  -7  -7  -6  -6  -6  -5  -5  -4  -4  -4\n",
      "  -3  -3  -2  -2  -2  -1  -1   0   0   1   1   1   2   2   3   3   3   4\n",
      "   4   5   5   5   6   6   7   7   7   8   8   9   9  10]\n",
      "Сумма всех элементов:  -24\n",
      "Сумма положительных элементов:  116\n",
      "Сумма отрицательных элементов:  -140\n"
     ]
    }
   ],
   "source": [
    "a = np.linspace(-10, 10, 50, dtype = int)\n",
    "print(\"Созданный массив: \", a)\n",
    "summ_all = np.sum(a)\n",
    "print(\"Сумма всех элементов: \", summ_all)\n",
    "pos_summ = np.sum(a[a > 0])\n",
    "print(\"Сумма положительных элементов: \", pos_summ)\n",
    "neg_summ = np.sum(a[a < 0])\n",
    "print(\"Сумма отрицательных элементов: \", neg_summ)"
   ]
  },
  {
   "cell_type": "code",
   "execution_count": 9,
   "id": "6d53a5d2-9418-47b9-916c-7c1ab5cfe6f7",
   "metadata": {},
   "outputs": [
    {
     "name": "stdout",
     "output_type": "stream",
     "text": [
      "Единичная матрица: \n",
      " [[1. 0. 0. 0.]\n",
      " [0. 1. 0. 0.]\n",
      " [0. 0. 1. 0.]\n",
      " [0. 0. 0. 1.]]\n",
      "Диагональная матрица:\n",
      " [[ 5  0  0  0]\n",
      " [ 0 10  0  0]\n",
      " [ 0  0 15  0]\n",
      " [ 0  0  0 20]]\n",
      "Сумма элементов единичной матрицы:\n",
      " 4.0\n",
      "Сумма элементов диагональной матрицы:\n",
      " 50\n",
      "По результатам сумма элементов диагональной матрицы оказалась больше, чем единичной.\n"
     ]
    }
   ],
   "source": [
    "edm = np.identity(4)\n",
    "print(\"Единичная матрица: \\n\", edm)\n",
    "diagm = np.diag([5, 10, 15, 20])\n",
    "print(\"Диагональная матрица:\\n\", diagm)\n",
    "edm_summ = np.sum(edm)\n",
    "print(\"Сумма элементов единичной матрицы:\\n\", edm_summ)\n",
    "diagm_summ = np.sum(diagm)\n",
    "print(\"Сумма элементов диагональной матрицы:\\n\", diagm_summ)\n",
    "print(\"По результатам сумма элементов диагональной матрицы оказалась больше, чем единичной.\")"
   ]
  },
  {
   "cell_type": "code",
   "execution_count": 11,
   "id": "c945e9b2-ccbf-48e6-a0bd-686f97932057",
   "metadata": {},
   "outputs": [
    {
     "name": "stdout",
     "output_type": "stream",
     "text": [
      "Первая матрица:\n",
      " [[12 16 20]\n",
      " [11 16  2]\n",
      " [12 13  6]]\n",
      "Вторая матрица:\n",
      " [[11 15  6]\n",
      " [15 10 16]\n",
      " [11 11  8]]\n",
      "Сумма:  [[23 31 26]\n",
      " [26 26 18]\n",
      " [23 24 14]]\n",
      "Разница:  [[  1   1  14]\n",
      " [ -4   6 -14]\n",
      " [  1   2  -2]]\n",
      "Произведение:  [[132 240 120]\n",
      " [165 160  32]\n",
      " [132 143  48]]\n"
     ]
    }
   ],
   "source": [
    "a = np.random.randint(1, 21, (3, 3))\n",
    "print(\"Первая матрица:\\n\", a)\n",
    "b = np.random.randint(1, 21, (3, 3))\n",
    "print(\"Вторая матрица:\\n\", b)\n",
    "summ = a + b\n",
    "print(\"Сумма: \", summ)\n",
    "razn = a - b\n",
    "print(\"Разница: \", razn)\n",
    "proz = a * b\n",
    "print(\"Произведение: \", proz)"
   ]
  },
  {
   "cell_type": "code",
   "execution_count": 13,
   "id": "45c82e9d-f9c9-40c1-9420-5c6e51cd31a8",
   "metadata": {},
   "outputs": [
    {
     "name": "stdout",
     "output_type": "stream",
     "text": [
      "Первая матрица:\n",
      " [[ 8  4  2]\n",
      " [10  5  3]]\n",
      "Вторая матрица:\n",
      " [[5 4]\n",
      " [3 7]\n",
      " [2 2]]\n",
      "Матричное умножение:\n",
      " [[56 64]\n",
      " [71 81]]\n"
     ]
    }
   ],
   "source": [
    "a = np.random.randint(1, 11, (2, 3))\n",
    "print(\"Первая матрица:\\n\", a)\n",
    "b = np.random.randint(1, 11, (3, 2))\n",
    "print(\"Вторая матрица:\\n\", b)\n",
    "mult = a @ b\n",
    "print(\"Матричное умножение:\\n\", mult)"
   ]
  },
  {
   "cell_type": "code",
   "execution_count": 15,
   "id": "3a03868f-8ec9-4c12-9211-0814001e895c",
   "metadata": {},
   "outputs": [
    {
     "name": "stdout",
     "output_type": "stream",
     "text": [
      "Матрица:\n",
      " [[16 17 16]\n",
      " [13  9  1]\n",
      " [20 12  9]]\n",
      "Определитель:\n",
      " -928.9999999999997\n",
      "Обратная матрица:\n",
      " [[-0.07427341 -0.04198062  0.13670614]\n",
      " [ 0.10441335  0.18945102 -0.20667384]\n",
      " [ 0.02583423 -0.15931109  0.08288482]]\n"
     ]
    }
   ],
   "source": [
    "a = np.random.randint(1, 21, (3, 3))\n",
    "print(\"Матрица:\\n\", a)\n",
    "det = np.linalg.det(a)\n",
    "print(\"Определитель:\\n\", det)\n",
    "if np.isclose(det, 0):\n",
    "    inv = \"Матрица вырождена\"\n",
    "else:\n",
    "    inv = np.linalg.inv(a)\n",
    "print(\"Обратная матрица:\\n\", inv)"
   ]
  },
  {
   "cell_type": "code",
   "execution_count": 17,
   "id": "22ece652-9ba8-4c37-b562-1dabe2a4f5f4",
   "metadata": {},
   "outputs": [
    {
     "name": "stdout",
     "output_type": "stream",
     "text": [
      "Матрица:\n",
      " [[15 15 12 46]\n",
      " [ 9 27 22  4]\n",
      " [ 1 44 16 16]\n",
      " [29 19 13 47]]\n",
      "Транспонированная матрица:\n",
      " [[15  9  1 29]\n",
      " [15 27 44 19]\n",
      " [12 22 16 13]\n",
      " [46  4 16 47]]\n",
      "След матрицы:\n",
      " 105\n"
     ]
    }
   ],
   "source": [
    "a = np.random.randint(1, 51, (4, 4))\n",
    "print(\"Матрица:\\n\", a)\n",
    "transp = a.T\n",
    "print(\"Транспонированная матрица:\\n\", transp)\n",
    "value = np.trace(a)\n",
    "print(\"След матрицы:\\n\", value)"
   ]
  },
  {
   "cell_type": "code",
   "execution_count": 19,
   "id": "a3b3c7ed-5266-4c76-beef-7e34d9e0c985",
   "metadata": {},
   "outputs": [
    {
     "name": "stdout",
     "output_type": "stream",
     "text": [
      "Решение системы:  [1.63963964 0.57657658 0.00900901]\n"
     ]
    }
   ],
   "source": [
    "A = np.array([[2, 3, -1],\n",
    "             [4, -1, 2],\n",
    "             [-3, 5, 4]])\n",
    "B = np.array([5, 6, -2])\n",
    "res = np.linalg.solve(A, B)\n",
    "print(\"Решение системы: \", res)"
   ]
  }
 ],
 "metadata": {
  "kernelspec": {
   "display_name": "Python [conda env:base] *",
   "language": "python",
   "name": "conda-base-py"
  },
  "language_info": {
   "codemirror_mode": {
    "name": "ipython",
    "version": 3
   },
   "file_extension": ".py",
   "mimetype": "text/x-python",
   "name": "python",
   "nbconvert_exporter": "python",
   "pygments_lexer": "ipython3",
   "version": "3.12.7"
  }
 },
 "nbformat": 4,
 "nbformat_minor": 5
}
