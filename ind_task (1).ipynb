{
 "cells": [
  {
   "cell_type": "code",
   "execution_count": 6,
   "id": "abdbd7d3-b9c2-4c03-82c8-6d12c7740696",
   "metadata": {},
   "outputs": [
    {
     "name": "stdout",
     "output_type": "stream",
     "text": [
      "Requirement already satisfied: pandas in f:\\anaconda3\\lib\\site-packages (2.2.3)\n",
      "Requirement already satisfied: pyarrow in f:\\anaconda3\\lib\\site-packages (16.1.0)\n",
      "Collecting tk\n",
      "  Downloading tk-0.1.0-py3-none-any.whl.metadata (693 bytes)\n",
      "Requirement already satisfied: numpy>=1.26.0 in f:\\anaconda3\\lib\\site-packages (from pandas) (1.26.4)\n",
      "Requirement already satisfied: python-dateutil>=2.8.2 in f:\\anaconda3\\lib\\site-packages (from pandas) (2.9.0.post0)\n",
      "Requirement already satisfied: pytz>=2020.1 in f:\\anaconda3\\lib\\site-packages (from pandas) (2024.1)\n",
      "Requirement already satisfied: tzdata>=2022.7 in f:\\anaconda3\\lib\\site-packages (from pandas) (2023.3)\n",
      "Requirement already satisfied: six>=1.5 in f:\\anaconda3\\lib\\site-packages (from python-dateutil>=2.8.2->pandas) (1.16.0)\n",
      "Downloading tk-0.1.0-py3-none-any.whl (3.9 kB)\n",
      "Installing collected packages: tk\n",
      "Successfully installed tk-0.1.0\n"
     ]
    }
   ],
   "source": [
    "!pip install pandas pyarrow tk"
   ]
  },
  {
   "cell_type": "code",
   "execution_count": 8,
   "id": "943e8cfd-b87c-4044-8bdf-cf686bb4b558",
   "metadata": {},
   "outputs": [],
   "source": [
    "import pandas as pd\n",
    "import datetime\n",
    "from tkinter import *\n",
    "from tkinter import messagebox, ttk\n",
    "import os"
   ]
  },
  {
   "cell_type": "code",
   "execution_count": 27,
   "id": "ad5223f5-caee-42e1-bbea-fbb70cb9d773",
   "metadata": {},
   "outputs": [],
   "source": [
    "class ProductManager:\n",
    "    def __init__(self):\n",
    "        self.df = pd.DataFrame(columns=['название товара', 'название магазина', 'стоимость товара в руб'])\n",
    "        self.filename = 'products.parquet'\n",
    "        \n",
    "        if os.path.exists(self.filename):\n",
    "            self.df = pd.read_parquet(self.filename)\n",
    "            self._sort_data()\n",
    "    \n",
    "    def _sort_data(self):\n",
    "        self.df = self.df.sort_values(by='название товара').reset_index(drop=True)\n",
    "    \n",
    "    def add_product(self, name, shop, price):\n",
    "        try:\n",
    "            price = float(price)\n",
    "            if price <= 0:\n",
    "                raise ValueError(\"Цена должна быть положительным числом\")\n",
    "            \n",
    "            new_row = pd.DataFrame({\n",
    "                'название товара': [name],\n",
    "                'название магазина': [shop],\n",
    "                'стоимость товара в руб': [price],\n",
    "                'дата добавления': [datetime.datetime.now()]\n",
    "            })\n",
    "            \n",
    "            self.df = pd.concat([self.df, new_row], ignore_index=True)\n",
    "            self._sort_data()\n",
    "            self.save_to_parquet()\n",
    "            return True\n",
    "        except ValueError as e:\n",
    "            print(f\"Ошибка: {e}\")\n",
    "            return False\n",
    "    \n",
    "    def search_product(self, name):\n",
    "        result = self.df[self.df['название товара'].str.lower() == name.lower()]\n",
    "        return result\n",
    "    \n",
    "    def delete_by_column(self, column_name, value):\n",
    "        if column_name not in self.df.columns:\n",
    "            return False\n",
    "        \n",
    "        initial_count = len(self.df)\n",
    "        self.df = self.df[self.df[column_name] != value]\n",
    "        self._sort_data()\n",
    "        \n",
    "        if len(self.df) < initial_count:\n",
    "            self.save_to_parquet()\n",
    "            return True\n",
    "        return False\n",
    "    \n",
    "    def save_to_parquet(self):\n",
    "        self.df.to_parquet(self.filename, index=False)\n",
    "    \n",
    "    def get_all_products(self):\n",
    "        return self.df"
   ]
  },
  {
   "cell_type": "code",
   "execution_count": 29,
   "id": "34c5907e-bd89-42bb-8190-839ae72bca5e",
   "metadata": {},
   "outputs": [
    {
     "name": "stdout",
     "output_type": "stream",
     "text": [
      "Найденные товары:\n",
      "  название товара название магазина  стоимость товара в руб  \\\n",
      "2         Телефон           М.Видео                 30000.0   \n",
      "\n",
      "             дата добавления  \n",
      "2 2025-06-21 05:43:31.592093  \n",
      "Данные сохранены в products.parquet\n"
     ]
    },
    {
     "name": "stderr",
     "output_type": "stream",
     "text": [
      "C:\\Users\\WINDOWS_11-500gb\\AppData\\Local\\Temp\\ipykernel_15652\\1770496828.py:26: FutureWarning: The behavior of DataFrame concatenation with empty or all-NA entries is deprecated. In a future version, this will no longer exclude empty or all-NA columns when determining the result dtypes. To retain the old behavior, exclude the relevant entries before the concat operation.\n",
      "  self.df = pd.concat([self.df, new_row], ignore_index=True)\n"
     ]
    }
   ],
   "source": [
    "manager = ProductManager()\n",
    "\n",
    "# Добавление товаров\n",
    "manager.add_product(\"Ноутбук\", \"Эльдорадо\", 50000)\n",
    "manager.add_product(\"Телефон\", \"М.Видео\", 30000)\n",
    "manager.add_product(\"Наушники\", \"DNS\", 5000)\n",
    "\n",
    "# Поиск\n",
    "print(\"Найденные товары:\")\n",
    "print(manager.search_product(\"Телефон\"))\n",
    "\n",
    "# Удаление\n",
    "manager.delete_by_column('название магазина', 'DNS')\n",
    "\n",
    "# Сохранение\n",
    "manager.save_to_parquet()\n",
    "print(f\"Данные сохранены в {manager.filename}\")"
   ]
  },
  {
   "cell_type": "code",
   "execution_count": 35,
   "id": "b52cb523-c3ed-41ae-9a03-8c88ef9348ee",
   "metadata": {},
   "outputs": [
    {
     "data": {
      "text/html": [
       "<div>\n",
       "<style scoped>\n",
       "    .dataframe tbody tr th:only-of-type {\n",
       "        vertical-align: middle;\n",
       "    }\n",
       "\n",
       "    .dataframe tbody tr th {\n",
       "        vertical-align: top;\n",
       "    }\n",
       "\n",
       "    .dataframe thead th {\n",
       "        text-align: right;\n",
       "    }\n",
       "</style>\n",
       "<table border=\"1\" class=\"dataframe\">\n",
       "  <thead>\n",
       "    <tr style=\"text-align: right;\">\n",
       "      <th></th>\n",
       "      <th>название товара</th>\n",
       "      <th>название магазина</th>\n",
       "      <th>стоимость товара в руб</th>\n",
       "      <th>дата добавления</th>\n",
       "    </tr>\n",
       "  </thead>\n",
       "  <tbody>\n",
       "    <tr>\n",
       "      <th>0</th>\n",
       "      <td>Ноутбук</td>\n",
       "      <td>Эльдорадо</td>\n",
       "      <td>50000.0</td>\n",
       "      <td>2025-06-21 05:43:31.585817</td>\n",
       "    </tr>\n",
       "    <tr>\n",
       "      <th>1</th>\n",
       "      <td>Телефон</td>\n",
       "      <td>М.Видео</td>\n",
       "      <td>30000.0</td>\n",
       "      <td>2025-06-21 05:43:31.592093</td>\n",
       "    </tr>\n",
       "  </tbody>\n",
       "</table>\n",
       "</div>"
      ],
      "text/plain": [
       "  название товара название магазина  стоимость товара в руб  \\\n",
       "0         Ноутбук         Эльдорадо                 50000.0   \n",
       "1         Телефон           М.Видео                 30000.0   \n",
       "\n",
       "             дата добавления  \n",
       "0 2025-06-21 05:43:31.585817  \n",
       "1 2025-06-21 05:43:31.592093  "
      ]
     },
     "execution_count": 35,
     "metadata": {},
     "output_type": "execute_result"
    }
   ],
   "source": [
    "df = pd.read_parquet('products.parquet')\n",
    "df"
   ]
  },
  {
   "cell_type": "code",
   "execution_count": 22,
   "id": "0143c57f-f114-4abd-b1a6-2e39e60d54e3",
   "metadata": {},
   "outputs": [
    {
     "name": "stdin",
     "output_type": "stream",
     "text": [
      "Введите название товара:  уцкукце\n",
      "Введите магазин:  ццукц\n",
      "Введите цену:  3245\n"
     ]
    },
    {
     "name": "stdout",
     "output_type": "stream",
     "text": [
      "Товар добавлен!\n"
     ]
    }
   ],
   "source": [
    "name = input(\"Введите название товара: \")\n",
    "shop = input(\"Введите магазин: \")\n",
    "price = float(input(\"Введите цену: \"))\n",
    "\n",
    "manager.add_product(name, shop, price)\n",
    "print(\"Товар добавлен!\")"
   ]
  }
 ],
 "metadata": {
  "kernelspec": {
   "display_name": "Python [conda env:base] *",
   "language": "python",
   "name": "conda-base-py"
  },
  "language_info": {
   "codemirror_mode": {
    "name": "ipython",
    "version": 3
   },
   "file_extension": ".py",
   "mimetype": "text/x-python",
   "name": "python",
   "nbconvert_exporter": "python",
   "pygments_lexer": "ipython3",
   "version": "3.12.7"
  }
 },
 "nbformat": 4,
 "nbformat_minor": 5
}
