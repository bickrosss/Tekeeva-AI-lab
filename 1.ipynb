{
 "cells": [
  {
   "cell_type": "markdown",
   "id": "3ce7ebca-3e37-404a-874e-0e43ed921042",
   "metadata": {},
   "source": [
    "\"Практическое задание №1\"\n",
    "\n",
    "**жирный** *курсивый* текст\n",
    "\n",
    "Список\n",
    "- пункт 1\n",
    "- пункт 2\n",
    "\n",
    "Список\n",
    "1. Пункт 1\n",
    "2. Пункт 2\n",
    "\n",
    "Формула для вычисления собственных значений матрицы:$$\\det(A - \\lambda I) = 0$$"
   ]
  },
  {
   "cell_type": "markdown",
   "id": "aed8d1a1-2d86-4139-b11f-d2c1f0a93d8d",
   "metadata": {},
   "source": [
    "![Черемуха](https://avatars.mds.yandex.net/i?id=6df1fa011580e9142ba21e92e2b894ca_l-5243437-images-thumbs&n=13)"
   ]
  },
  {
   "cell_type": "code",
   "execution_count": null,
   "id": "c56910f8-fe24-4ed0-ae02-ef91709562ad",
   "metadata": {},
   "outputs": [],
   "source": [
    "name = input()\n",
    "print(\"Привет, \", name, \"!\", \" Добро пожаловать в JupyterLab / Google Colab!\", sep=\"\")"
   ]
  }
 ],
 "metadata": {
  "kernelspec": {
   "display_name": "Python [conda env:base] *",
   "language": "python",
   "name": "conda-base-py"
  },
  "language_info": {
   "codemirror_mode": {
    "name": "ipython",
    "version": 3
   },
   "file_extension": ".py",
   "mimetype": "text/x-python",
   "name": "python",
   "nbconvert_exporter": "python",
   "pygments_lexer": "ipython3",
   "version": "3.12.7"
  }
 },
 "nbformat": 4,
 "nbformat_minor": 5
}
