{
 "cells": [
  {
   "cell_type": "code",
   "execution_count": 6,
   "id": "3ad36e98-1525-441a-bebc-15b939a15444",
   "metadata": {},
   "outputs": [
    {
     "name": "stdout",
     "output_type": "stream",
     "text": [
      "Содержимое файла:\n",
      " Привет\n",
      "Привет2\n",
      "\n",
      "Файл существует: True\n",
      "Файл удален.\n"
     ]
    }
   ],
   "source": [
    "import os\n",
    "\n",
    "with open(\"digits.txt\", \"w\") as f:\n",
    "    f.write(\"Привет\\n\")\n",
    "    f.write(\"Привет2\\n\")\n",
    "\n",
    "with open(\"digits.txt\", \"r\") as f:\n",
    "    content = f.read()\n",
    "    print(\"Содержимое файла:\\n\", content)\n",
    "\n",
    "print(\"Файл существует:\", os.path.exists(\"digits.txt\"))\n",
    "\n",
    "os.remove(\"digits.txt\")\n",
    "print(\"Файл удален.\")\n"
   ]
  }
 ],
 "metadata": {
  "kernelspec": {
   "display_name": "Python [conda env:base] *",
   "language": "python",
   "name": "conda-base-py"
  },
  "language_info": {
   "codemirror_mode": {
    "name": "ipython",
    "version": 3
   },
   "file_extension": ".py",
   "mimetype": "text/x-python",
   "name": "python",
   "nbconvert_exporter": "python",
   "pygments_lexer": "ipython3",
   "version": "3.12.7"
  }
 },
 "nbformat": 4,
 "nbformat_minor": 5
}
