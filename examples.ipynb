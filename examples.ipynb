{
 "cells": [
  {
   "cell_type": "code",
   "execution_count": 1,
   "id": "809d62f5-2638-4ff7-a5b6-5be81a76694c",
   "metadata": {},
   "outputs": [
    {
     "name": "stdout",
     "output_type": "stream",
     "text": [
      "[5 7 9]\n"
     ]
    }
   ],
   "source": [
    "import numpy as np\n",
    "a = np.array([1,2,3])\n",
    "b = np.array([4,5,6])\n",
    "result = a + b\n",
    "print(result)"
   ]
  },
  {
   "cell_type": "code",
   "execution_count": 5,
   "id": "2fb77a4c-da87-414d-8000-327ec9e501ca",
   "metadata": {},
   "outputs": [
    {
     "name": "stdout",
     "output_type": "stream",
     "text": [
      "3.0 1.4142135623730951\n"
     ]
    }
   ],
   "source": [
    "data = np.array([1,2,3,4,5])\n",
    "mean = np.mean(data)\n",
    "std_dev = np.std(data)\n",
    "print(mean, std_dev)"
   ]
  },
  {
   "cell_type": "code",
   "execution_count": 7,
   "id": "138789ab-fc07-4c98-9b8b-0dcbfcf51783",
   "metadata": {},
   "outputs": [
    {
     "name": "stdout",
     "output_type": "stream",
     "text": [
      "Созданная матрица:\n",
      " [[1 2 3 4]\n",
      " [5 6 7 8]\n",
      " [9 1 5 7]]\n",
      "Вывод элемента 1 строки и 0 столбца: 5\n",
      "Вывод 1 строки матрицы: [[5 6 7 8]]\n",
      "Вывод 2 столбца матрицы: [[3]\n",
      " [7]\n",
      " [5]]\n",
      "Вывод части строки матрицы: [[7 8]]\n",
      "Вывод части столбца матрицы: [[2]\n",
      " [6]]\n",
      "Извлечение подмассива: [[2 3]\n",
      " [6 7]]\n",
      "Извлечение столбцов и строк: [[1 2 4]\n",
      " [5 6 8]\n",
      " [9 1 7]]\n"
     ]
    }
   ],
   "source": [
    "m = np.matrix(\"1 2 3 4; 5 6 7 8; 9 1 5 7\")\n",
    "print(\"Созданная матрица:\\n\", m)\n",
    "print(\"Вывод элемента 1 строки и 0 столбца:\", m[1,0]) \n",
    "print(\"Вывод 1 строки матрицы:\", m[1, :])\n",
    "print(\"Вывод 2 столбца матрицы:\", m[:, 2])\n",
    "print(\"Вывод части строки матрицы:\", m[1,2:])\n",
    "print(\"Вывод части столбца матрицы:\", m[0:2, 1])\n",
    "print(\"Извлечение подмассива:\", m[0:2, 1:3])\n",
    "cols = [0, 1, 3]\n",
    "print(\"Извлечение столбцов и строк:\", m[:, cols])"
   ]
  },
  {
   "cell_type": "code",
   "execution_count": 9,
   "id": "53536769-1511-4783-aa0d-6ce0832cd2a5",
   "metadata": {},
   "outputs": [
    {
     "name": "stdout",
     "output_type": "stream",
     "text": [
      "Размерность массива: (3, 4)\n",
      "Расчет статистики, максимальное значение в матрице: 9\n",
      "Расчет статистики, максимальные значения по строкам: [[4]\n",
      " [8]\n",
      " [9]]\n",
      "Расчет статистики, максимальные значения по столбцам: [[9 6 7 8]]\n"
     ]
    }
   ],
   "source": [
    "print(\"Размерность массива:\",m.shape)\n",
    "print(\"Расчет статистики, максимальное значение в матрице:\", m.max())\n",
    "print(\"Расчет статистики, максимальные значения по строкам:\", m.max(axis=1))\n",
    "print(\"Расчет статистики, максимальные значения по столбцам:\", m.max(axis=0))"
   ]
  },
  {
   "cell_type": "code",
   "execution_count": 11,
   "id": "8c8951f2-d3db-4746-8ee5-1a95fac8cbc9",
   "metadata": {},
   "outputs": [
    {
     "name": "stdout",
     "output_type": "stream",
     "text": [
      "False\n"
     ]
    },
    {
     "data": {
      "text/plain": [
       "array([ True,  True,  True,  True,  True,  True, False, False, False,\n",
       "       False])"
      ]
     },
     "execution_count": 11,
     "metadata": {},
     "output_type": "execute_result"
    }
   ],
   "source": [
    "b = 5 > 7\n",
    "print(b)\n",
    "nums = np.array([1,2,3,4,5,6,7,8,9,10])\n",
    "less_then_7 = nums < 7\n",
    "less_then_7"
   ]
  },
  {
   "cell_type": "code",
   "execution_count": 13,
   "id": "e84abaaa-ae19-457d-b196-123557ceda9b",
   "metadata": {},
   "outputs": [
    {
     "data": {
      "text/plain": [
       "matrix([[3, 4, 5, 6, 7, 5, 7]])"
      ]
     },
     "execution_count": 13,
     "metadata": {},
     "output_type": "execute_result"
    }
   ],
   "source": [
    "mod_m = np.logical_and(m >= 3, m <= 7)\n",
    "mod_m\n",
    "m[mod_m]"
   ]
  },
  {
   "cell_type": "code",
   "execution_count": 15,
   "id": "44289304-daea-4c39-971f-4ffa0f65228b",
   "metadata": {},
   "outputs": [
    {
     "name": "stdout",
     "output_type": "stream",
     "text": [
      "[[ 1  2  3  4]\n",
      " [ 5  6  7 25]\n",
      " [25  1  5  7]]\n"
     ]
    }
   ],
   "source": [
    "m[m > 7] = 25\n",
    "print(m)"
   ]
  },
  {
   "cell_type": "code",
   "execution_count": 17,
   "id": "ea4d8c4a-fac9-4beb-b39a-8cf6bfdcf5fe",
   "metadata": {},
   "outputs": [
    {
     "data": {
      "text/plain": [
       "array([0, 1, 2, 3, 4, 5, 6, 7, 8, 9])"
      ]
     },
     "execution_count": 17,
     "metadata": {},
     "output_type": "execute_result"
    }
   ],
   "source": [
    "np.arange(10)"
   ]
  },
  {
   "cell_type": "code",
   "execution_count": 21,
   "id": "a15f179e-6f29-42bd-8e16-d03ed0130633",
   "metadata": {},
   "outputs": [
    {
     "data": {
      "text/plain": [
       "array([10, 11, 12, 13, 14, 15, 16, 17, 18, 19])"
      ]
     },
     "execution_count": 21,
     "metadata": {},
     "output_type": "execute_result"
    }
   ],
   "source": [
    "np.arange(10,20)"
   ]
  },
  {
   "cell_type": "code",
   "execution_count": 23,
   "id": "53cae1b7-0e2e-4772-87f4-c3ffd8dd5fc4",
   "metadata": {},
   "outputs": [
    {
     "data": {
      "text/plain": [
       "array([1. , 1.5, 2. , 2.5, 3. , 3.5, 4. , 4.5, 5. , 5.5, 6. , 6.5, 7. ,\n",
       "       7.5, 8. , 8.5, 9. , 9.5])"
      ]
     },
     "execution_count": 23,
     "metadata": {},
     "output_type": "execute_result"
    }
   ],
   "source": [
    "np.arange(1,10,0.5)"
   ]
  },
  {
   "cell_type": "code",
   "execution_count": 25,
   "id": "73497a91-904e-4341-a6a7-de6114c97c5c",
   "metadata": {},
   "outputs": [
    {
     "data": {
      "text/plain": [
       "matrix([[1, 2],\n",
       "        [3, 4]])"
      ]
     },
     "execution_count": 25,
     "metadata": {},
     "output_type": "execute_result"
    }
   ],
   "source": [
    "a = [[1,2],[3,4]]\n",
    "np.matrix(a)"
   ]
  },
  {
   "cell_type": "code",
   "execution_count": 27,
   "id": "2ac880d8-eccb-4010-8319-cc99e4f17793",
   "metadata": {},
   "outputs": [
    {
     "data": {
      "text/plain": [
       "matrix([[1, 2],\n",
       "        [3, 4]])"
      ]
     },
     "execution_count": 27,
     "metadata": {},
     "output_type": "execute_result"
    }
   ],
   "source": [
    "b = np.array([[1,2],[3,4]])\n",
    "np.matrix(b)"
   ]
  },
  {
   "cell_type": "code",
   "execution_count": 29,
   "id": "2c733ab9-9891-4a05-9363-358bcfcef2ec",
   "metadata": {},
   "outputs": [
    {
     "data": {
      "text/plain": [
       "array([[0., 0., 0., 0.],\n",
       "       [0., 0., 0., 0.],\n",
       "       [0., 0., 0., 0.]])"
      ]
     },
     "execution_count": 29,
     "metadata": {},
     "output_type": "execute_result"
    }
   ],
   "source": [
    "np.zeros((3,4))"
   ]
  },
  {
   "cell_type": "code",
   "execution_count": 31,
   "id": "19993222-3b69-48fc-9dd7-180bffe663e6",
   "metadata": {},
   "outputs": [
    {
     "data": {
      "text/plain": [
       "array([[1., 0., 0.],\n",
       "       [0., 1., 0.],\n",
       "       [0., 0., 1.]])"
      ]
     },
     "execution_count": 31,
     "metadata": {},
     "output_type": "execute_result"
    }
   ],
   "source": [
    "np.eye(3)"
   ]
  },
  {
   "cell_type": "code",
   "execution_count": 33,
   "id": "a763eb61-ad79-4037-a6cf-f6bb440a2671",
   "metadata": {},
   "outputs": [
    {
     "name": "stdout",
     "output_type": "stream",
     "text": [
      "[[1 2 3]\n",
      " [4 5 6]\n",
      " [7 8 9]]\n",
      "[1 2 3 4 5 6 7 8 9]\n",
      "order = C: [1 2 3 4 5 6 7 8 9]\n",
      "order = F: [1 4 7 2 5 8 3 6 9]\n"
     ]
    }
   ],
   "source": [
    "A = np.array([[1,2,3],[4,5,6],[7,8,9]])\n",
    "print(A)\n",
    "print(np.ravel(A))\n",
    "print(\"order = C:\", np.ravel(A, order = \"C\"))\n",
    "print(\"order = F:\", np.ravel(A, order = \"F\"))"
   ]
  },
  {
   "cell_type": "code",
   "execution_count": 35,
   "id": "050eb5bd-7e6e-4586-b4d1-0766d90e3e96",
   "metadata": {},
   "outputs": [
    {
     "name": "stdout",
     "output_type": "stream",
     "text": [
      "[0.62117051 0.2815035  0.26959866 0.31404868 0.89460847 0.2082971\n",
      " 0.22728948 0.16186572 0.77588912 0.96633957]\n",
      "[ True False False False  True False False False  True  True]\n",
      "[ 1 -1 -1 -1  1 -1 -1 -1  1  1]\n"
     ]
    }
   ],
   "source": [
    "a = np.random.rand(10)\n",
    "print(a)\n",
    "print(np.where(a > 0.5, True, False))\n",
    "print(np.where(a > 0.5, 1, -1))"
   ]
  },
  {
   "cell_type": "code",
   "execution_count": 37,
   "id": "af5e0dc4-6760-4900-a93b-8e65b29b391a",
   "metadata": {},
   "outputs": [
    {
     "name": "stdout",
     "output_type": "stream",
     "text": [
      "x =  [0.   0.25 0.5  0.75 1.  ]\n",
      "y =  [0.  0.5 1.  1.5 2. ]\n",
      "xg =  [[0.   0.25 0.5  0.75 1.  ]\n",
      " [0.   0.25 0.5  0.75 1.  ]\n",
      " [0.   0.25 0.5  0.75 1.  ]\n",
      " [0.   0.25 0.5  0.75 1.  ]\n",
      " [0.   0.25 0.5  0.75 1.  ]]\n",
      "yg =  [[0.  0.  0.  0.  0. ]\n",
      " [0.5 0.5 0.5 0.5 0.5]\n",
      " [1.  1.  1.  1.  1. ]\n",
      " [1.5 1.5 1.5 1.5 1.5]\n",
      " [2.  2.  2.  2.  2. ]]\n"
     ]
    }
   ],
   "source": [
    "x = np.linspace(0,1,5)\n",
    "print(\"x = \", x)\n",
    "y = np.linspace(0,2,5)\n",
    "print(\"y = \", y)\n",
    "xg, yg = np.meshgrid(x, y)\n",
    "print(\"xg = \", xg)\n",
    "print(\"yg = \", yg)"
   ]
  },
  {
   "cell_type": "code",
   "execution_count": 41,
   "id": "0670ee49-9e58-4a0a-b80f-d211fcdbc5cb",
   "metadata": {},
   "outputs": [
    {
     "data": {
      "text/plain": [
       "[<matplotlib.lines.Line2D at 0x228b60aef90>,\n",
       " <matplotlib.lines.Line2D at 0x228b603ac00>,\n",
       " <matplotlib.lines.Line2D at 0x228b5833e00>,\n",
       " <matplotlib.lines.Line2D at 0x228b60af140>,\n",
       " <matplotlib.lines.Line2D at 0x228b60af200>]"
      ]
     },
     "execution_count": 41,
     "metadata": {},
     "output_type": "execute_result"
    },
    {
     "data": {
      "image/png": "[encoded data removed]",
      "text/plain": [
       "<Figure size 640x480 with 1 Axes>"
      ]
     },
     "metadata": {},
     "output_type": "display_data"
    }
   ],
   "source": [
    "import matplotlib.pyplot as plt\n",
    "plt.plot(xg,yg, color = \"g\", marker = \"*\", linestyle = \"none\")"
   ]
  },
  {
   "cell_type": "code",
   "execution_count": 43,
   "id": "f8fddc76-70c9-4db2-a3c5-c0481df205ff",
   "metadata": {},
   "outputs": [
    {
     "name": "stdout",
     "output_type": "stream",
     "text": [
      "[6 0 4 1 3 2 5]\n",
      "['c' 'd' 'b' 'e' 'a']\n"
     ]
    }
   ],
   "source": [
    "print(np.random.permutation(7))\n",
    "a = ['a', 'b', 'c', 'd', 'e']\n",
    "print(np.random.permutation(a))"
   ]
  },
  {
   "cell_type": "code",
   "execution_count": 45,
   "id": "a1021abf-43d4-422e-97c9-63802af9dc9c",
   "metadata": {},
   "outputs": [
    {
     "name": "stdout",
     "output_type": "stream",
     "text": [
      "Вектор-строка:  [1 2]\n",
      "Нулевой вектор:  [0. 0. 0. 0. 0.]\n",
      "Единичный вектор:  [1. 1. 1. 1. 1.]\n"
     ]
    }
   ],
   "source": [
    "v_hor_np = np.array([1,2])\n",
    "print(\"Вектор-строка: \", v_hor_np)\n",
    "v_hor_zeros = np.zeros((5,))\n",
    "print(\"Нулевой вектор: \", v_hor_zeros)\n",
    "v_hor_one = np.ones((5,))\n",
    "print(\"Единичный вектор: \", v_hor_one)"
   ]
  },
  {
   "cell_type": "code",
   "execution_count": 47,
   "id": "4b25ddbd-4501-4e4d-9f2d-57844369cd1e",
   "metadata": {},
   "outputs": [
    {
     "name": "stdout",
     "output_type": "stream",
     "text": [
      "Вектор-столбец:  [[1]\n",
      " [2]]\n",
      "Нулевой вектор-столбец:  [[0.]\n",
      " [0.]\n",
      " [0.]\n",
      " [0.]\n",
      " [0.]]\n",
      "Единичный вектор-столбец:  [[1.]\n",
      " [1.]\n",
      " [1.]\n",
      " [1.]\n",
      " [1.]]\n"
     ]
    }
   ],
   "source": [
    "v_vert = np.array([[1],[2]])\n",
    "print(\"Вектор-столбец: \", v_vert)\n",
    "v_vert_zeros = np.zeros((5,1))\n",
    "print(\"Нулевой вектор-столбец: \", v_vert_zeros)\n",
    "v_vert_ones = np.ones((5,1))\n",
    "print(\"Единичный вектор-столбец: \", v_vert_ones)"
   ]
  },
  {
   "cell_type": "code",
   "execution_count": 49,
   "id": "da9750fc-964a-4c1e-90e8-39fe5f27e366",
   "metadata": {},
   "outputs": [
    {
     "name": "stdout",
     "output_type": "stream",
     "text": [
      "С помощью array:\n",
      " [[1 2 3]\n",
      " [4 5 6]\n",
      " [7 8 9]]\n",
      "С передачей в функцию array:\n",
      " [[1 2 3]\n",
      " [4 5 6]\n",
      " [7 8 9]]\n",
      "С помощью matrix:\n",
      " [[1 2 3]\n",
      " [4 5 6]\n",
      " [7 8 9]]\n",
      "matrix со строчными значениями:\n",
      " [[1 2 3]\n",
      " [4 5 6]\n",
      " [7 8 9]]\n"
     ]
    }
   ],
   "source": [
    "m_sqr_arr = np.array([[1, 2, 3], [4, 5, 6], [7, 8, 9]])\n",
    "print(\"С помощью array:\\n\", m_sqr_arr)\n",
    "m_sqr = [[1, 2, 3], [4, 5, 6], [7, 8, 9]]\n",
    "m_sqr_arr2 = np.array(m_sqr)\n",
    "print(\"С передачей в функцию array:\\n\", m_sqr_arr2)\n",
    "m_sqr_matr = np.matrix([[1, 2, 3], [4, 5, 6], [7, 8, 9]])\n",
    "print(\"С помощью matrix:\\n\", m_sqr_matr)\n",
    "m_sqr_mx = np.matrix('1 2 3; 4 5 6; 7 8 9')\n",
    "print(\"matrix со строчными значениями:\\n\", m_sqr_mx)"
   ]
  },
  {
   "cell_type": "code",
   "execution_count": 51,
   "id": "e2916041-07bf-474e-b032-17fee4efdad3",
   "metadata": {},
   "outputs": [
    {
     "name": "stdout",
     "output_type": "stream",
     "text": [
      "Диагональная матрица, заполненная вручную:\n",
      " [[1 0 0]\n",
      " [0 5 0]\n",
      " [0 0 9]]\n",
      "Извлеченная диагональ из матрицы:\n",
      " [1 5 9]\n",
      "Матрица, построенная из извлеченной диагонали:\n",
      " [[1 0 0]\n",
      " [0 5 0]\n",
      " [0 0 9]]\n"
     ]
    }
   ],
   "source": [
    "m_diag = [[1, 0, 0], [0, 5, 0], [0, 0, 9]]\n",
    "m_diag_np = np.matrix(m_diag)\n",
    "print(\"Диагональная матрица, заполненная вручную:\\n\", m_diag_np)\n",
    "m_sqr_mx = np.matrix('1 2 3; 4 5 6; 7 8 9')\n",
    "diag = np.diag(m_sqr_mx)\n",
    "print(\"Извлеченная диагональ из матрицы:\\n\", diag)\n",
    "new_diag = np.diag(np.diag(m_sqr_mx))\n",
    "print(\"Матрица, построенная из извлеченной диагонали:\\n\", new_diag)"
   ]
  },
  {
   "cell_type": "code",
   "execution_count": 53,
   "id": "5a815024-f935-40ab-b255-85532cd313f7",
   "metadata": {},
   "outputs": [
    {
     "name": "stdout",
     "output_type": "stream",
     "text": [
      "Диагональная матрица, заполненная вручную:\n",
      " [[1 0 0]\n",
      " [0 5 0]\n",
      " [0 0 9]]\n",
      "Функция eye:\n",
      " [[1. 0. 0.]\n",
      " [0. 1. 0.]\n",
      " [0. 0. 1.]]\n",
      "Функция identity:\n",
      " [[1. 0. 0.]\n",
      " [0. 1. 0.]\n",
      " [0. 0. 1.]]\n"
     ]
    }
   ],
   "source": [
    "m_e = [[1, 0, 0], [0, 1, 0], [0, 0, 1]]\n",
    "m_e_np = np.matrix(m_e)\n",
    "print(\"Диагональная матрица, заполненная вручную:\\n\", m_diag_np)\n",
    "m_eye = np.eye(3)\n",
    "print(\"Функция eye:\\n\", m_eye)\n",
    "m_idnt = np.identity(3)\n",
    "print(\"Функция identity:\\n\", m_idnt)"
   ]
  },
  {
   "cell_type": "code",
   "execution_count": 55,
   "id": "d65b6b95-2deb-48c5-8ec6-8bb3a1c32183",
   "metadata": {},
   "outputs": [
    {
     "name": "stdout",
     "output_type": "stream",
     "text": [
      "[[0. 0. 0.]\n",
      " [0. 0. 0.]\n",
      " [0. 0. 0.]]\n"
     ]
    }
   ],
   "source": [
    "m_zeros = np.zeros((3, 3))\n",
    "print(m_zeros)"
   ]
  },
  {
   "cell_type": "code",
   "execution_count": 57,
   "id": "bf4351d1-10f4-480b-9409-f444a59d9843",
   "metadata": {},
   "outputs": [
    {
     "name": "stdout",
     "output_type": "stream",
     "text": [
      "Созданная матрица:\n",
      " [[1 2 3]\n",
      " [4 5 6]]\n",
      "Фунция transpose:\n",
      " [[1 4]\n",
      " [2 5]\n",
      " [3 6]]\n",
      "Сокращенный вариант:\n",
      " [[1 4]\n",
      " [2 5]\n",
      " [3 6]]\n"
     ]
    }
   ],
   "source": [
    "A = np.matrix('1 2 3; 4 5 6')\n",
    "print(\"Созданная матрица:\\n\", A)\n",
    "A_t = A.transpose()\n",
    "print(\"Фунция transpose:\\n\", A_t)\n",
    "print(\"Сокращенный вариант:\\n\", A.T)"
   ]
  },
  {
   "cell_type": "code",
   "execution_count": 59,
   "id": "074bd37d-8fd7-4a98-9afe-48a8f1c1d9a2",
   "metadata": {},
   "outputs": [
    {
     "name": "stdout",
     "output_type": "stream",
     "text": [
      "[[1 2 3]\n",
      " [4 5 6]]\n",
      "3 * A\n",
      " [[ 3  6  9]\n",
      " [12 15 18]]\n"
     ]
    }
   ],
   "source": [
    "A = np.matrix('1 2 3; 4 5 6')\n",
    "print(A)\n",
    "C = 3 * A\n",
    "print(\"3 * A\\n\", C)"
   ]
  },
  {
   "cell_type": "code",
   "execution_count": 61,
   "id": "981289ab-8128-4488-bae0-84f3ceeacc1c",
   "metadata": {},
   "outputs": [
    {
     "name": "stdout",
     "output_type": "stream",
     "text": [
      "[[ 9  7  8]\n",
      " [14 11 19]]\n"
     ]
    }
   ],
   "source": [
    "A = np.matrix('1 6 3; 8 2 7')\n",
    "B = np.matrix('8 1 5; 6 9 12')\n",
    "C = A + B\n",
    "print(C)"
   ]
  },
  {
   "cell_type": "code",
   "execution_count": 63,
   "id": "d495333b-e254-4efa-94cc-6e25f24a3bd7",
   "metadata": {},
   "outputs": [
    {
     "name": "stdout",
     "output_type": "stream",
     "text": [
      "[[31 19]\n",
      " [85 55]]\n"
     ]
    }
   ],
   "source": [
    "A = np.matrix('1 2 3; 4 5 6')\n",
    "B = np.matrix('7 8; 9 1; 2 3')\n",
    "C = A.dot(B)\n",
    "print(C)"
   ]
  },
  {
   "cell_type": "code",
   "execution_count": 65,
   "id": "fc96a78f-cff3-4003-a9b6-ca714eefb8e0",
   "metadata": {},
   "outputs": [
    {
     "name": "stdout",
     "output_type": "stream",
     "text": [
      "[[-4 -1  2]\n",
      " [10  4 -1]\n",
      " [ 8  3  1]]\n"
     ]
    },
    {
     "data": {
      "text/plain": [
       "-14.000000000000009"
      ]
     },
     "execution_count": 65,
     "metadata": {},
     "output_type": "execute_result"
    }
   ],
   "source": [
    "\n",
    "A = np.matrix('-4 -1 2; 10 4 -1; 8 3 1')\n",
    "print(A)\n",
    "np.linalg.det(A)"
   ]
  },
  {
   "cell_type": "code",
   "execution_count": 67,
   "id": "71971ce8-ffd9-453f-85c1-9b8478b1b897",
   "metadata": {},
   "outputs": [
    {
     "name": "stdout",
     "output_type": "stream",
     "text": [
      "[[ 0.45454545  0.27272727]\n",
      " [-0.18181818  0.09090909]]\n"
     ]
    }
   ],
   "source": [
    "A = np.matrix('1 -3; 2 5')\n",
    "A_inv = np.linalg.inv(A)\n",
    "print(A_inv)"
   ]
  },
  {
   "cell_type": "code",
   "execution_count": 69,
   "id": "be93937d-39f6-447a-ad37-635d673ebe42",
   "metadata": {},
   "outputs": [
    {
     "name": "stdout",
     "output_type": "stream",
     "text": [
      "[[1. 0. 0. 0.]\n",
      " [0. 1. 0. 0.]\n",
      " [0. 0. 1. 0.]\n",
      " [0. 0. 0. 1.]]\n",
      "4\n"
     ]
    }
   ],
   "source": [
    "m_eye = np.eye(4)\n",
    "print(m_eye)\n",
    "rank = np.linalg.matrix_rank(m_eye)\n",
    "print(rank)"
   ]
  }
 ],
 "metadata": {
  "kernelspec": {
   "display_name": "Python [conda env:base] *",
   "language": "python",
   "name": "conda-base-py"
  },
  "language_info": {
   "codemirror_mode": {
    "name": "ipython",
    "version": 3
   },
   "file_extension": ".py",
   "mimetype": "text/x-python",
   "name": "python",
   "nbconvert_exporter": "python",
   "pygments_lexer": "ipython3",
   "version": "3.12.7"
  }
 },
 "nbformat": 4,
 "nbformat_minor": 5
}
