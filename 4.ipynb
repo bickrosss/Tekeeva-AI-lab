{
 "cells": [
  {
   "cell_type": "code",
   "execution_count": 35,
   "id": "179ce614-1f3f-40b7-b72e-588ceceada86",
   "metadata": {},
   "outputs": [
    {
     "name": "stdout",
     "output_type": "stream",
     "text": [
      "Active code page: 65001\n"
     ]
    }
   ],
   "source": [
    "!chcp 65001 "
   ]
  },
  {
   "cell_type": "code",
   "execution_count": 37,
   "id": "14732493-c04a-4f4b-82d1-8f89f78a9e78",
   "metadata": {},
   "outputs": [
    {
     "name": "stdout",
     "output_type": "stream",
     "text": [
      " Volume in drive C has no label.\n",
      " Volume Serial Number is 90D2-300A\n",
      "\n",
      " Directory of C:\\Users\\WINDOWS_11-500gb\\notebook\n",
      "\n",
      "02.05.2025  02:35            32В 597  JPnotebook.ipynb\n",
      "02.05.2025  05:54    <DIR>          .\n",
      "02.05.2025  05:42    <DIR>          ..\n",
      "02.05.2025  05:40    <DIR>          .ipynb_checkpoints\n",
      "02.05.2025  05:41             1В 584 1.ipynb\n",
      "02.05.2025  05:39             1В 407 2.ipynb\n",
      "02.05.2025  05:47            39В 915 3.ipynb\n",
      "02.05.2025  05:54             3В 709 4.ipynb\n",
      "02.05.2025  05:54             3В 368 5.ipynb\n",
      "02.05.2025  03:58            43В 161 JPlab.ipynb\n",
      "02.05.2025  02:28                37 test.py\n",
      "02.05.2025  05:43                56 test_script.py\n",
      "02.05.2025  03:53                20 text.csv\n",
      "              10 File(s)        125В 854 bytes\n",
      "               3 Dir(s)   5В 876В 359В 168 bytes free\n"
     ]
    }
   ],
   "source": [
    "%ls\n",
    "%mkdir new_folder\n",
    "%rmdir new_folder"
   ]
  },
  {
   "cell_type": "code",
   "execution_count": 20,
   "id": "b18ef5cd-8b72-48d9-891d-c63db053623d",
   "metadata": {},
   "outputs": [
    {
     "name": "stdout",
     "output_type": "stream",
     "text": [
      "F:\\anaconda3\\python.exe\n",
      "C:\\Users\\WINDOWS_11-500gb\\AppData\\Local\\Microsoft\\WindowsApps\\python.exe\n"
     ]
    }
   ],
   "source": [
    "!where python"
   ]
  },
  {
   "cell_type": "code",
   "execution_count": 41,
   "id": "113030d2-8a07-46ea-a81b-176eea22b6ba",
   "metadata": {},
   "outputs": [],
   "source": [
    "%mkdir test_folder"
   ]
  },
  {
   "cell_type": "code",
   "execution_count": 43,
   "id": "2b8a08da-1a7d-49a5-a349-93e3f2867caa",
   "metadata": {},
   "outputs": [
    {
     "name": "stdout",
     "output_type": "stream",
     "text": [
      " Volume in drive C has no label.\n",
      " Volume Serial Number is 90D2-300A\n",
      "\n",
      " Directory of C:\\Users\\WINDOWS_11-500gb\\notebook\\test_folder\n",
      "\n",
      "02.05.2025  05:54    <DIR>          .\n",
      "02.05.2025  05:54    <DIR>          ..\n",
      "               0 File(s)              0 bytes\n",
      "               2 Dir(s)   5В 875В 769В 344 bytes free\n"
     ]
    }
   ],
   "source": [
    "%ls test_folder"
   ]
  },
  {
   "cell_type": "code",
   "execution_count": 45,
   "id": "06e1f9b4-d39b-4203-a604-c7c66420a5f9",
   "metadata": {},
   "outputs": [],
   "source": [
    "!rmdir /S /Q test_folder"
   ]
  }
 ],
 "metadata": {
  "kernelspec": {
   "display_name": "Python [conda env:base] *",
   "language": "python",
   "name": "conda-base-py"
  },
  "language_info": {
   "codemirror_mode": {
    "name": "ipython",
    "version": 3
   },
   "file_extension": ".py",
   "mimetype": "text/x-python",
   "name": "python",
   "nbconvert_exporter": "python",
   "pygments_lexer": "ipython3",
   "version": "3.12.7"
  }
 },
 "nbformat": 4,
 "nbformat_minor": 5
}
